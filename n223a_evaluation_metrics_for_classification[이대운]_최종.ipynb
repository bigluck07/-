{
  "nbformat": 4,
  "nbformat_minor": 0,
  "metadata": {
    "kernelspec": {
      "display_name": "Python 3",
      "language": "python",
      "name": "python3"
    },
    "language_info": {
      "codemirror_mode": {
        "name": "ipython",
        "version": 3
      },
      "file_extension": ".py",
      "mimetype": "text/x-python",
      "name": "python",
      "nbconvert_exporter": "python",
      "pygments_lexer": "ipython3",
      "version": "3.7.7"
    },
    "colab": {
      "name": "n223a-evaluation-metrics-for-classification[이대운]-최종.ipynb",
      "provenance": [],
      "collapsed_sections": [],
      "toc_visible": true,
      "include_colab_link": true
    }
  },
  "cells": [
    {
      "cell_type": "markdown",
      "metadata": {
        "id": "view-in-github",
        "colab_type": "text"
      },
      "source": [
        "<a href=\"https://colab.research.google.com/github/bigluck07/Code_States_Project/blob/main/n223a_evaluation_metrics_for_classification%5B%EC%9D%B4%EB%8C%80%EC%9A%B4%5D_%EC%B5%9C%EC%A2%85.ipynb\" target=\"_parent\"><img src=\"https://colab.research.google.com/assets/colab-badge.svg\" alt=\"Open In Colab\"/></a>"
      ]
    },
    {
      "cell_type": "markdown",
      "metadata": {
        "id": "5K3ZCpXZ5qzb"
      },
      "source": [
        "<img align=\"right\" src=\"https://ds-cs-images.s3.ap-northeast-2.amazonaws.com/Codestates_Fulllogo_Color.png\" width=100>\n",
        "\n",
        "## *DATA SCIENCE / SECTION 2 / SPRINT 2 / NOTE 3*\n",
        "\n",
        "# 📝 Assignment\n",
        "---"
      ]
    },
    {
      "cell_type": "markdown",
      "metadata": {
        "id": "nCc3XZEyG3XV"
      },
      "source": [
        "# Evaluation Metrics for Classification\n",
        "\n",
        "### 1) Kaggle 챌린지를 이어서 진행합니다.\n",
        "- **다음 조건에서 F beta score를 구하고 과제 제출폼에 제출하세요.**\n",
        "    - TP = 4442, TN = 6165, FP = 1515, FN = 1930, 재현율에 정밀도의 2배 가중치를 부여합니다. (f-bate-score에서 가중치 줄 수 있음)"
      ]
    },
    {
      "cell_type": "code",
      "metadata": {
        "id": "DbCTpZ5E_IDP"
      },
      "source": [
        "!pip install category_encoders==2.*"
      ],
      "execution_count": null,
      "outputs": []
    },
    {
      "cell_type": "markdown",
      "metadata": {
        "id": "7KH5-3WVMbTr"
      },
      "source": [
        "accuracy = 𝑇𝑃+𝑇𝑁 / 𝑇𝑃+𝑇𝑁+𝐹𝑃+𝐹𝑁\n",
        "\n",
        "precision = 𝑇𝑃 / 𝑇𝑃+𝐹𝑃\n",
        " \n",
        "recall = 𝑇𝑃 / 𝑇𝑃+𝐹𝑁\n",
        "\n",
        "fallout = 𝐹𝑃 / 𝐹𝑃+𝑇𝑁\n",
        "\n",
        "𝐹𝛽 = ( 1 + 𝛽**2 ) ( precision * recall ) / (( 𝛽**2 * precision ) + recall) \n",
        "\n"
      ]
    },
    {
      "cell_type": "code",
      "metadata": {
        "colab": {
          "base_uri": "https://localhost:8080/"
        },
        "id": "9jOK5MApMc63",
        "outputId": "73f69395-b30e-465c-afe6-b0a5f6a2e5e4"
      },
      "source": [
        "tp = 4442\n",
        "tn = 6165\n",
        "fp = 1515\n",
        "fn = 1930\n",
        "\n",
        "beta = 2\n",
        "#정밀도: 모델이 p로 예측한 경우(tp, fp) 중 진짜 p인 경우\n",
        "pre_p = tp+fp\n",
        "precision = tp / pre_p\n",
        "\n",
        "#재현율: 실제 p(tp, fn) 중에 모델이 P로 예측한 경우\n",
        "r_p = tp+fn\n",
        "recall = tp / r_p\n",
        "\n",
        "# f1 beta점수\n",
        "f1_beta = (1+beta**2)*((precision*recall)/((beta**2*precision)+recall))\n",
        "\n",
        "precision, recall, f1_beta"
      ],
      "execution_count": 7,
      "outputs": [
        {
          "output_type": "execute_result",
          "data": {
            "text/plain": [
              "(0.7456773543730065, 0.697112366603892, 0.7063126093178564)"
            ]
          },
          "metadata": {
            "tags": []
          },
          "execution_count": 7
        }
      ]
    },
    {
      "cell_type": "markdown",
      "metadata": {
        "id": "FQ49ElF7hdIl"
      },
      "source": [
        "### 데이터 불러오기"
      ]
    },
    {
      "cell_type": "code",
      "metadata": {
        "id": "VAyoGhqJOOxO"
      },
      "source": [
        "import pandas as pd\n",
        "import numpy as np"
      ],
      "execution_count": 8,
      "outputs": []
    },
    {
      "cell_type": "code",
      "metadata": {
        "id": "Ppcvs7ak5qzu"
      },
      "source": [
        "# read_data\n",
        "target = 'vacc_h1n1_f'\n",
        "train = pd.merge(pd.read_csv('https://ds-lecture-data.s3.ap-northeast-2.amazonaws.com/vacc_flu/train.csv'), \n",
        "                 pd.read_csv('https://ds-lecture-data.s3.ap-northeast-2.amazonaws.com/vacc_flu/train_labels.csv')[target], left_index=True, right_index=True)\n",
        "test = pd.read_csv('https://ds-lecture-data.s3.ap-northeast-2.amazonaws.com/vacc_flu/test.csv')\n",
        "sample_submission = pd.read_csv('https://ds-lecture-data.s3.ap-northeast-2.amazonaws.com/vacc_flu/submission.csv')"
      ],
      "execution_count": 28,
      "outputs": []
    },
    {
      "cell_type": "code",
      "metadata": {
        "id": "vKq41xnw_mJs"
      },
      "source": [
        "#EDA \n",
        "def engineer(df):\n",
        "    \"\"\"특성을 엔지니어링 하는 함수입니다.\"\"\"\n",
        "        \n",
        "    # 새로운 특성을 생성합니다.\n",
        "    behaviorals = [col for col in df.columns if 'behavioral' in col] \n",
        "    df['behaviorals'] = df[behaviorals].sum(axis=1)\n",
        "    \n",
        "    # 거주 구성원 : 어린이 구성원 비율, 어른 구성원 비율 컬럼 생성\n",
        "    df[\"proportion_child\"] = round((df[\"household_children\"]/df[\"n_people_r\"])*100, 0)\n",
        "    df[\"proportion_adult\"] = round((df[\"n_adult_r\"]/df[\"n_people_r\"])*100, 0)\n",
        " \n",
        "    # 특성 drop\n",
        "    features_del = [\"employment_industry\", \"employment_occupation\", \"n_adult_r\", \"household_children\",\"census_msa\", \"state\",\n",
        "                   'doctor_recc_seasonal', 'opinion_seas_vacc_effective', 'opinion_seas_risk', 'opinion_seas_sick_from_vacc']\n",
        "    df.drop(features_del, axis=1, inplace= True)\n",
        "\n",
        "    return df\n",
        "\n",
        "\n",
        "train_clear = engineer(train)\n",
        "test_clear = engineer(test)"
      ],
      "execution_count": 29,
      "outputs": []
    },
    {
      "cell_type": "code",
      "metadata": {
        "id": "04tGWV1TibCP"
      },
      "source": [
        "print(train_clear.shape, train_clear.columns)\n",
        "print('\\n')\n",
        "print(test_clear.shape, test_clear.columns)"
      ],
      "execution_count": null,
      "outputs": []
    },
    {
      "cell_type": "code",
      "metadata": {
        "colab": {
          "base_uri": "https://localhost:8080/"
        },
        "id": "F1V_248oiaem",
        "outputId": "69569e2d-aa1b-42c3-cdc6-2862007bb34f"
      },
      "source": [
        "# data_split\n",
        "from sklearn.model_selection import train_test_split\n",
        "\n",
        "train_cleadr, val_clear = train_test_split(train_clear, test_size=0.25, \n",
        "                              stratify=train_clear[target], random_state=2)\n",
        "\n",
        "\n",
        "train_cleadr.shape, val_clear.shape, test_clear.shape"
      ],
      "execution_count": 32,
      "outputs": [
        {
          "output_type": "execute_result",
          "data": {
            "text/plain": [
              "((31615, 32), (10539, 32), (28104, 31))"
            ]
          },
          "metadata": {
            "tags": []
          },
          "execution_count": 32
        }
      ]
    },
    {
      "cell_type": "code",
      "metadata": {
        "id": "ICeO_6LR_rJS"
      },
      "source": [
        "# target_split\n",
        "features = train.drop(columns=[target]).columns\n",
        "\n",
        "X_train = train_cleadr[features]\n",
        "y_train = train_cleadr[target]\n",
        "X_val = val_clear[features]\n",
        "y_val = val_clear[target]\n",
        "X_test = test_clear[features]"
      ],
      "execution_count": 33,
      "outputs": []
    },
    {
      "cell_type": "markdown",
      "metadata": {
        "id": "_kE0qM8q5qzv"
      },
      "source": [
        "### 2) 모델을 학습한 후 Confusion matrix를 그리고 해석하세요\n",
        "- 임계값을 조정한 후 confusion matrix를 그려보세요\n",
        "- **(객관식) 임계값을 증가시킬때 positive 범주에 대한 재현율의 변화 양상을 과제 제출폼에 제출하세요.**\n",
        "    1. 증가\n",
        "    2. 감소\n",
        "    3. 변화가 없다\n"
      ]
    },
    {
      "cell_type": "code",
      "metadata": {
        "id": "j-pCLBH6jKYk"
      },
      "source": [
        "from sklearn.pipeline import make_pipeline\n",
        "from category_encoders import OrdinalEncoder, OneHotEncoder\n",
        "from sklearn.impute import SimpleImputer\n",
        "from sklearn.ensemble import RandomForestClassifier\n",
        "from sklearn.metrics import accuracy_score, f1_score, confusion_matrix, precision_score, recall_score"
      ],
      "execution_count": 43,
      "outputs": []
    },
    {
      "cell_type": "code",
      "metadata": {
        "colab": {
          "base_uri": "https://localhost:8080/"
        },
        "id": "kj4CmSRJObUZ",
        "outputId": "4f0a6d34-b6b2-4edb-896c-17cbb76eae1b"
      },
      "source": [
        "# 파이프라인을 만들어 봅시다.\n",
        "onehot= [\"employment_status\"]\n",
        "ordinals = ['opinion_h1n1_vacc_effective','opinion_h1n1_risk','opinion_h1n1_sick_from_vacc', \"agegrp\"]\n",
        "\n",
        "pipe = make_pipeline(\n",
        "    OneHotEncoder(use_cat_names=True, cols=onehot), \n",
        "    OrdinalEncoder(cols=ordinals), \n",
        "    SimpleImputer(), \n",
        "    RandomForestClassifier(n_estimators=150, random_state=10, n_jobs=-1,min_samples_split = 6)\n",
        "     # n_estimators: 생성할 트리 갯수 (바꿔가면서 과제진행)\n",
        ")\n",
        "\n",
        "pipe.fit(X_train, y_train)\n",
        "print('훈련 정확도(pip score): ', pipe.score(X_train, y_train))\n",
        "print('검증 정확도(pip score): ', pipe.score(X_val, y_val))\n",
        "y_pred = pipe.predict(X_val)\n",
        "print('검증 f1: ', f1_score(y_val, y_pred))"
      ],
      "execution_count": 40,
      "outputs": [
        {
          "output_type": "stream",
          "text": [
            "/usr/local/lib/python3.7/dist-packages/category_encoders/utils.py:21: FutureWarning: is_categorical is deprecated and will be removed in a future version.  Use is_categorical_dtype instead\n",
            "  elif pd.api.types.is_categorical(cols):\n",
            "/usr/local/lib/python3.7/dist-packages/category_encoders/utils.py:21: FutureWarning: is_categorical is deprecated and will be removed in a future version.  Use is_categorical_dtype instead\n",
            "  elif pd.api.types.is_categorical(cols):\n"
          ],
          "name": "stderr"
        },
        {
          "output_type": "stream",
          "text": [
            "훈련 정확도(pip score):  0.9340186620275186\n",
            "검증 정확도(pip score):  0.8274029794098112\n",
            "검증 f1:  0.5596707818930041\n"
          ],
          "name": "stdout"
        }
      ]
    },
    {
      "cell_type": "code",
      "metadata": {
        "colab": {
          "base_uri": "https://localhost:8080/"
        },
        "id": "NTvzwGNir911",
        "outputId": "05c6e451-8cde-4baf-e8fa-00a62ebe428b"
      },
      "source": [
        "# import seaborn as sns\n",
        "# from sklearn.metrics import classification_report\n",
        "# # Randomforestclassifier\n",
        "# threshold = [0.2,0.3,0.4,0.5]\n",
        "# for i in threshold:\n",
        "#   y_pred_proba = pipe.predict_proba(X_val)[:, 1]\n",
        "#   y_pred = y_pred_proba > i\n",
        "#   print('임계값:', i)\n",
        "#   print('정밀도: %.3f' % precision_score(y_true=y_val, y_pred=y_pred)) \n",
        "#   print('재현율: %.3f' % recall_score(y_true=y_val, y_pred=y_pred))\n",
        "#   print('\\n')\n",
        "\n",
        "# # ax = sns.histplot(y_pred_proba)\n",
        "# # ax.axvline(threshold, color='red')\n",
        "\n",
        "# #pd.Series(y_pred).value_counts()"
      ],
      "execution_count": 49,
      "outputs": [
        {
          "output_type": "stream",
          "text": [
            "임계값: 0.2\n",
            "정밀도: 0.440\n",
            "재현율: 0.814\n",
            "\n",
            "\n",
            "임계값: 0.3\n",
            "정밀도: 0.548\n",
            "재현율: 0.701\n",
            "\n",
            "\n",
            "임계값: 0.4\n",
            "정밀도: 0.636\n",
            "재현율: 0.591\n",
            "\n",
            "\n",
            "임계값: 0.5\n",
            "정밀도: 0.717\n",
            "재현율: 0.459\n",
            "\n",
            "\n"
          ],
          "name": "stdout"
        }
      ]
    },
    {
      "cell_type": "code",
      "metadata": {
        "id": "_HDwPP29OsR0",
        "colab": {
          "base_uri": "https://localhost:8080/"
        },
        "outputId": "08d543c4-2f4a-4a91-9079-a33358baa71b"
      },
      "source": [
        "import seaborn as sns\n",
        "from sklearn.metrics import classification_report\n",
        "# Randomforestclassifier\n",
        "threshold = [0.2,0.3,0.4,0.5]\n",
        "for i in threshold:\n",
        "  y_pred_proba = pipe.predict_proba(X_val)[:, 1]\n",
        "  y_pred = y_pred_proba > i\n",
        "  print(i)\n",
        "  print(classification_report(y_val, y_pred))\n",
        "  print(\"\")\n",
        "\n",
        "# ax = sns.histplot(y_pred_proba)\n",
        "# ax.axvline(threshold, color='red')\n",
        "\n",
        "#pd.Series(y_pred).value_counts()"
      ],
      "execution_count": 52,
      "outputs": [
        {
          "output_type": "stream",
          "text": [
            "0.2\n",
            "              precision    recall  f1-score   support\n",
            "\n",
            "           0       0.92      0.67      0.78      8020\n",
            "           1       0.44      0.81      0.57      2519\n",
            "\n",
            "    accuracy                           0.71     10539\n",
            "   macro avg       0.68      0.74      0.67     10539\n",
            "weighted avg       0.81      0.71      0.73     10539\n",
            "\n",
            "\n",
            "0.3\n",
            "              precision    recall  f1-score   support\n",
            "\n",
            "           0       0.90      0.82      0.86      8020\n",
            "           1       0.55      0.70      0.62      2519\n",
            "\n",
            "    accuracy                           0.79     10539\n",
            "   macro avg       0.72      0.76      0.74     10539\n",
            "weighted avg       0.81      0.79      0.80     10539\n",
            "\n",
            "\n",
            "0.4\n",
            "              precision    recall  f1-score   support\n",
            "\n",
            "           0       0.87      0.89      0.88      8020\n",
            "           1       0.64      0.59      0.61      2519\n",
            "\n",
            "    accuracy                           0.82     10539\n",
            "   macro avg       0.75      0.74      0.75     10539\n",
            "weighted avg       0.82      0.82      0.82     10539\n",
            "\n",
            "\n",
            "0.5\n",
            "              precision    recall  f1-score   support\n",
            "\n",
            "           0       0.85      0.94      0.89      8020\n",
            "           1       0.72      0.46      0.56      2519\n",
            "\n",
            "    accuracy                           0.83     10539\n",
            "   macro avg       0.78      0.70      0.73     10539\n",
            "weighted avg       0.82      0.83      0.81     10539\n",
            "\n",
            "\n"
          ],
          "name": "stdout"
        }
      ]
    },
    {
      "cell_type": "code",
      "metadata": {
        "id": "Et3MF0445qzw",
        "colab": {
          "base_uri": "https://localhost:8080/",
          "height": 297
        },
        "outputId": "33a28eb7-b5f9-47bd-a542-e9be8c88510c"
      },
      "source": [
        "# Confusion matrix\n",
        "from sklearn.metrics import plot_confusion_matrix\n",
        "import matplotlib.pyplot as plt\n",
        "\n",
        "fig, ax = plt.subplots()\n",
        "pcm = plot_confusion_matrix(pipe, X_val, y_val,\n",
        "                            cmap=plt.cm.Blues,\n",
        "                            ax=ax);\n",
        "plt.title(f'Confusion matrix, n = {len(y_val)}', fontsize=15)\n",
        "plt.show()\n"
      ],
      "execution_count": 53,
      "outputs": [
        {
          "output_type": "display_data",
          "data": {
            "image/png": "[encoded data removed]",
            "text/plain": [
              "<Figure size 432x288 with 2 Axes>"
            ]
          },
          "metadata": {
            "tags": [],
            "needs_background": "light"
          }
        }
      ]
    },
    {
      "cell_type": "markdown",
      "metadata": {
        "id": "u9Y6RYESN_nc"
      },
      "source": [
        "Q. 임계값을 증가시킬때 positive 범주에 대한 재현율의 변화 양상을 과제 제출폼에 제출하세요.\n",
        "- 감소한다\n",
        "\n"
      ]
    },
    {
      "cell_type": "markdown",
      "metadata": {
        "id": "L9nhiFSh5qzw"
      },
      "source": [
        "### 3) 랜덤포레스트의 n_estimator를 1, 10, 100, 1000으로 바꾸어 가며 positive 범주의 predict_proba를 비교해 보세요\n",
        "- 파라미터는 다음과 같이 설정합니다.\n",
        "    - n_jobs=-1, random_state=10, max_depth=None, n_estimators = n\n",
        "- **(객관식) 확률값들의 분포(종류)의 변화를 과제 제출폼에 제출하세요**\n",
        "    1. 다양해진다\n",
        "    2. 변화가없다\n"
      ]
    },
    {
      "cell_type": "markdown",
      "metadata": {
        "id": "BKvQS351R0V7"
      },
      "source": [
        "다양해진다\n",
        "n_estimators: 생성할 트리의 개수를 지정한다.\n",
        "n_estimators의 변수를 변경할 경우, 만드는 트리의 수가 달라져서 더 세밀한 예측이 가능해진다."
      ]
    },
    {
      "cell_type": "code",
      "metadata": {
        "id": "UrTDz9ZRQ9vG"
      },
      "source": [
        "from category_encoders import OneHotEncoder\n",
        "from category_encoders import OrdinalEncoder\n",
        "from sklearn.impute import SimpleImputer\n",
        "from sklearn.preprocessing import StandardScaler\n",
        "from sklearn.ensemble import RandomForestClassifier\n",
        "from sklearn.pipeline import make_pipeline"
      ],
      "execution_count": null,
      "outputs": []
    },
    {
      "cell_type": "code",
      "metadata": {
        "id": "Jgp7y5SPRgOi"
      },
      "source": [
        "nostate = train.drop(['vacc_h1n1_f','state'], axis=1).columns"
      ],
      "execution_count": null,
      "outputs": []
    },
    {
      "cell_type": "code",
      "metadata": {
        "id": "OBOzENVc5qzw",
        "colab": {
          "base_uri": "https://localhost:8080/",
          "height": 1000
        },
        "outputId": "43631753-00b4-4330-949a-c1ab1267391a"
      },
      "source": [
        "#pipe\n",
        "onehot= [\"employment_status\"]\n",
        "ordinals = ['opinion_h1n1_vacc_effective','opinion_h1n1_risk','opinion_h1n1_sick_from_vacc', \"agegrp\"]\n",
        "\n",
        "num = [1,10,100,1000]\n",
        "for i in num:\n",
        "  pipe = make_pipeline(\n",
        "      OneHotEncoder(use_cat_names=True, cols=onehot), \n",
        "      OrdinalEncoder(cols=ordinals), \n",
        "      SimpleImputer(), \n",
        "      RandomForestClassifier(n_estimators=i, random_state=10, n_jobs=-1,min_samples_split = 6)\n",
        "     # n_estimators: 생성할 트리 갯수 (바꿔가면서 과제진행)\n",
        "  )\n",
        "  pipe.fit(X_train, y_train)\n",
        "\n",
        "  print('n_estimators:', i)\n",
        "  # 모델 정확도\n",
        "  print('\\n훈련 정확도: ', pipe.score(X_train, y_train))\n",
        "  print('검증 정확도: ', pipe.score(X_val, y_val))\n",
        "  # f1 score\n",
        "  y_pred = pipe.predict(X_val)\n",
        "  print('검증 f1: ', f1_score(y_val, y_pred))\n",
        "  # 확률값 분포\n",
        "  y_pred_proba = pipe.predict_proba(X_val)[:, 1]\n",
        "  sns.displot(y_pred_proba)\n",
        "  plt.title(\"predict_proba\")\n",
        "  plt.show()\n",
        "  print('------------------------------------ \\n')"
      ],
      "execution_count": 54,
      "outputs": [
        {
          "output_type": "stream",
          "text": [
            "/usr/local/lib/python3.7/dist-packages/category_encoders/utils.py:21: FutureWarning: is_categorical is deprecated and will be removed in a future version.  Use is_categorical_dtype instead\n",
            "  elif pd.api.types.is_categorical(cols):\n",
            "/usr/local/lib/python3.7/dist-packages/category_encoders/utils.py:21: FutureWarning: is_categorical is deprecated and will be removed in a future version.  Use is_categorical_dtype instead\n",
            "  elif pd.api.types.is_categorical(cols):\n"
          ],
          "name": "stderr"
        },
        {
          "output_type": "stream",
          "text": [
            "n_estimators: 1\n",
            "\n",
            "훈련 정확도:  0.8477305076704096\n",
            "검증 정확도:  0.7556694183508872\n",
            "검증 f1:  0.4696189495365603\n"
          ],
          "name": "stdout"
        },
        {
          "output_type": "display_data",
          "data": {
            "image/png": "[encoded data removed]",
            "text/plain": [
              "<Figure size 360x360 with 1 Axes>"
            ]
          },
          "metadata": {
            "tags": [],
            "needs_background": "light"
          }
        },
        {
          "output_type": "stream",
          "text": [
            "------------------------------------ \n",
            "\n"
          ],
          "name": "stdout"
        },
        {
          "output_type": "stream",
          "text": [
            "/usr/local/lib/python3.7/dist-packages/category_encoders/utils.py:21: FutureWarning: is_categorical is deprecated and will be removed in a future version.  Use is_categorical_dtype instead\n",
            "  elif pd.api.types.is_categorical(cols):\n",
            "/usr/local/lib/python3.7/dist-packages/category_encoders/utils.py:21: FutureWarning: is_categorical is deprecated and will be removed in a future version.  Use is_categorical_dtype instead\n",
            "  elif pd.api.types.is_categorical(cols):\n"
          ],
          "name": "stderr"
        },
        {
          "output_type": "stream",
          "text": [
            "n_estimators: 10\n",
            "\n",
            "훈련 정확도:  0.9238336232800886\n",
            "검증 정확도:  0.8193376980738211\n",
            "검증 f1:  0.5528417097228747\n"
          ],
          "name": "stdout"
        },
        {
          "output_type": "display_data",
          "data": {
            "image/png": "[encoded data removed]",
            "text/plain": [
              "<Figure size 360x360 with 1 Axes>"
            ]
          },
          "metadata": {
            "tags": [],
            "needs_background": "light"
          }
        },
        {
          "output_type": "stream",
          "text": [
            "------------------------------------ \n",
            "\n"
          ],
          "name": "stdout"
        },
        {
          "output_type": "stream",
          "text": [
            "/usr/local/lib/python3.7/dist-packages/category_encoders/utils.py:21: FutureWarning: is_categorical is deprecated and will be removed in a future version.  Use is_categorical_dtype instead\n",
            "  elif pd.api.types.is_categorical(cols):\n",
            "/usr/local/lib/python3.7/dist-packages/category_encoders/utils.py:21: FutureWarning: is_categorical is deprecated and will be removed in a future version.  Use is_categorical_dtype instead\n",
            "  elif pd.api.types.is_categorical(cols):\n"
          ],
          "name": "stderr"
        },
        {
          "output_type": "stream",
          "text": [
            "n_estimators: 100\n",
            "\n",
            "훈련 정확도:  0.9338605092519374\n",
            "검증 정확도:  0.8288262643514565\n",
            "검증 f1:  0.562772661173049\n"
          ],
          "name": "stdout"
        },
        {
          "output_type": "display_data",
          "data": {
            "image/png": "[encoded data removed]",
            "text/plain": [
              "<Figure size 360x360 with 1 Axes>"
            ]
          },
          "metadata": {
            "tags": [],
            "needs_background": "light"
          }
        },
        {
          "output_type": "stream",
          "text": [
            "------------------------------------ \n",
            "\n"
          ],
          "name": "stdout"
        },
        {
          "output_type": "stream",
          "text": [
            "/usr/local/lib/python3.7/dist-packages/category_encoders/utils.py:21: FutureWarning: is_categorical is deprecated and will be removed in a future version.  Use is_categorical_dtype instead\n",
            "  elif pd.api.types.is_categorical(cols):\n",
            "/usr/local/lib/python3.7/dist-packages/category_encoders/utils.py:21: FutureWarning: is_categorical is deprecated and will be removed in a future version.  Use is_categorical_dtype instead\n",
            "  elif pd.api.types.is_categorical(cols):\n"
          ],
          "name": "stderr"
        },
        {
          "output_type": "stream",
          "text": [
            "n_estimators: 1000\n",
            "\n",
            "훈련 정확도:  0.9350308397912384\n",
            "검증 정확도:  0.829205807002562\n",
            "검증 f1:  0.5645863570391872\n"
          ],
          "name": "stdout"
        },
        {
          "output_type": "display_data",
          "data": {
            "image/png": "[encoded data removed]",
            "text/plain": [
              "<Figure size 360x360 with 1 Axes>"
            ]
          },
          "metadata": {
            "tags": [],
            "needs_background": "light"
          }
        },
        {
          "output_type": "stream",
          "text": [
            "------------------------------------ \n",
            "\n"
          ],
          "name": "stdout"
        }
      ]
    },
    {
      "cell_type": "markdown",
      "metadata": {
        "id": "VkJJUQxN5qzx"
      },
      "source": [
        "### 4) 두개 이상의 다른 분류 모델을 학습시켜 ROC curve, AUC 점수를 비교하고 설명합니다.\n",
        "- 더 좋은 결과가 나오는 모델을 사용해서 캐글에 제출하세요\n",
        "- **캐글 Leaderboard의 본인 Score를 과제 제출폼에 제출하세요.**"
      ]
    },
    {
      "cell_type": "code",
      "metadata": {
        "colab": {
          "base_uri": "https://localhost:8080/",
          "height": 417
        },
        "id": "GbN6VGrIG6cO",
        "outputId": "438e6a85-ac66-436e-b608-5e3b945f0dd7"
      },
      "source": [
        "# modeling RandomForest\n",
        "from sklearn.metrics import roc_curve, roc_auc_score\n",
        "onehot= [\"employment_status\"]\n",
        "ordinals = ['opinion_h1n1_vacc_effective','opinion_h1n1_risk','opinion_h1n1_sick_from_vacc', \"agegrp\"]\n",
        "\n",
        "pipe_1 = make_pipeline(\n",
        "    OneHotEncoder(use_cat_names=True, cols=onehot), \n",
        "    OrdinalEncoder(cols=ordinals), \n",
        "    SimpleImputer(), \n",
        "    RandomForestClassifier(n_estimators=1, random_state=10, n_jobs=-1,min_samples_split = 6)\n",
        ")\n",
        "\n",
        "pipe_1.fit(X_train, y_train)\n",
        "\n",
        "# AUC 점수\n",
        "y_pred_proba_1 = pipe_1.predict_proba(X_val)[:, 1]\n",
        "auc_score_1 = roc_auc_score(y_val, y_pred_proba_1)\n",
        "print('auc_score_1:', auc_score_1)\n",
        "\n",
        "# ROC curve\n",
        "fpr_1, tpr_1, thresholds_1 = roc_curve(y_val, y_pred_proba_1)\n",
        "\n",
        "roc_1 = pd.DataFrame({'FPR(Fall-out)': fpr_1, \n",
        "                      'TPRate(Recall)': tpr_1, \n",
        "                      'Threshold': thresholds_1\n",
        "})\n",
        "\n",
        "plt.scatter(fpr_1, tpr_1)\n",
        "plt.title('ROC curve')\n",
        "plt.xlabel('FPR(Fall-out)')\n",
        "plt.ylabel('TPR(Recall)')\n"
      ],
      "execution_count": 70,
      "outputs": [
        {
          "output_type": "stream",
          "text": [
            "/usr/local/lib/python3.7/dist-packages/category_encoders/utils.py:21: FutureWarning: is_categorical is deprecated and will be removed in a future version.  Use is_categorical_dtype instead\n",
            "  elif pd.api.types.is_categorical(cols):\n",
            "/usr/local/lib/python3.7/dist-packages/category_encoders/utils.py:21: FutureWarning: is_categorical is deprecated and will be removed in a future version.  Use is_categorical_dtype instead\n",
            "  elif pd.api.types.is_categorical(cols):\n"
          ],
          "name": "stderr"
        },
        {
          "output_type": "stream",
          "text": [
            "auc_score_1: 0.7053482312480015\n"
          ],
          "name": "stdout"
        },
        {
          "output_type": "execute_result",
          "data": {
            "text/plain": [
              "Text(0, 0.5, 'TPR(Recall)')"
            ]
          },
          "metadata": {
            "tags": []
          },
          "execution_count": 70
        },
        {
          "output_type": "display_data",
          "data": {
            "image/png": "[encoded data removed]",
            "text/plain": [
              "<Figure size 432x288 with 1 Axes>"
            ]
          },
          "metadata": {
            "tags": [],
            "needs_background": "light"
          }
        }
      ]
    },
    {
      "cell_type": "code",
      "metadata": {
        "colab": {
          "base_uri": "https://localhost:8080/",
          "height": 417
        },
        "id": "iwe4Cknpyj76",
        "outputId": "e3721ac3-c8c8-4969-e61c-49432d79600b"
      },
      "source": [
        "# modeling RandomForest\n",
        "from sklearn.metrics import roc_curve, roc_auc_score\n",
        "onehot= [\"employment_status\"]\n",
        "ordinals = ['opinion_h1n1_vacc_effective','opinion_h1n1_risk','opinion_h1n1_sick_from_vacc', \"agegrp\"]\n",
        "\n",
        "pipe_1000 = make_pipeline(\n",
        "    OneHotEncoder(use_cat_names=True, cols=onehot), \n",
        "    OrdinalEncoder(cols=ordinals), \n",
        "    SimpleImputer(), \n",
        "    RandomForestClassifier(n_estimators=1000, random_state=10, n_jobs=-1,min_samples_split = 6)\n",
        ")\n",
        "\n",
        "pipe_1000.fit(X_train, y_train)\n",
        "\n",
        "# AUC 점수\n",
        "y_pred_proba_1000 = pipe_1000.predict_proba(X_val)[:, 1]\n",
        "auc_score_1000 = roc_auc_score(y_val, y_pred_proba_1000)\n",
        "print('auc_score_1000:', auc_score_1000)\n",
        "\n",
        "# ROC curve\n",
        "fpr_1000, tpr_1000, thresholds_1000 = roc_curve(y_val, y_pred_proba_1000)\n",
        "\n",
        "roc_1000 = pd.DataFrame({'FPR(Fall-out)': fpr_1000, \n",
        "                      'TPRate(Recall)': tpr_1000, \n",
        "                      'Threshold': thresholds_1000\n",
        "})\n",
        "\n",
        "plt.scatter(fpr_1000, tpr_1000)\n",
        "plt.title('ROC curve')\n",
        "plt.xlabel('FPR(Fall-out)')\n",
        "plt.ylabel('TPR(Recall)')"
      ],
      "execution_count": 69,
      "outputs": [
        {
          "output_type": "stream",
          "text": [
            "/usr/local/lib/python3.7/dist-packages/category_encoders/utils.py:21: FutureWarning: is_categorical is deprecated and will be removed in a future version.  Use is_categorical_dtype instead\n",
            "  elif pd.api.types.is_categorical(cols):\n",
            "/usr/local/lib/python3.7/dist-packages/category_encoders/utils.py:21: FutureWarning: is_categorical is deprecated and will be removed in a future version.  Use is_categorical_dtype instead\n",
            "  elif pd.api.types.is_categorical(cols):\n"
          ],
          "name": "stderr"
        },
        {
          "output_type": "stream",
          "text": [
            "auc_score_1000: 0.8345657046348005\n"
          ],
          "name": "stdout"
        },
        {
          "output_type": "execute_result",
          "data": {
            "text/plain": [
              "Text(0, 0.5, 'TPR(Recall)')"
            ]
          },
          "metadata": {
            "tags": []
          },
          "execution_count": 69
        },
        {
          "output_type": "display_data",
          "data": {
            "image/png": "[encoded data removed]",
            "text/plain": [
              "<Figure size 432x288 with 1 Axes>"
            ]
          },
          "metadata": {
            "tags": [],
            "needs_background": "light"
          }
        }
      ]
    },
    {
      "cell_type": "code",
      "metadata": {
        "colab": {
          "base_uri": "https://localhost:8080/"
        },
        "id": "jS36C4m8IDW3",
        "outputId": "24f09e30-bc41-45b1-874c-e40ac3357bb9"
      },
      "source": [
        "y_pred_proba_1000 = pipe_1000.predict_proba(X_test)[:, 1]\n",
        "y_pred_1000 = y_pred_proba_1000 > 0.3\n",
        "from sklearn.metrics import f1_score\n",
        "print('f1_score:', f1_score(sample_submission['vacc_h1n1_f'], y_pred_1000))"
      ],
      "execution_count": 71,
      "outputs": [
        {
          "output_type": "stream",
          "text": [
            "f1_score: 0.37828293974839994\n"
          ],
          "name": "stdout"
        }
      ]
    },
    {
      "cell_type": "code",
      "metadata": {
        "id": "HTsL6Q4aIEdQ"
      },
      "source": [
        "id = sample_submission['Id'].values\n",
        "submission = pd.DataFrame({'Id': id, 'vacc_h1n1_f': y_pred_1000})\n",
        "submission.to_csv('submission_h1n1_EM0.csv', index=False)"
      ],
      "execution_count": 73,
      "outputs": []
    },
    {
      "cell_type": "markdown",
      "metadata": {
        "id": "KJvJXyER5qzx"
      },
      "source": [
        "## 🔥 도전과제"
      ]
    },
    {
      "cell_type": "markdown",
      "metadata": {
        "id": "dx4m4W2A5qzy"
      },
      "source": [
        "### 5) 각 평가지표에 대해 결과를 최대한 분석하고 무엇이 부족한지, 어떤 방향으로 성능을 높여야 하는지 논하세요."
      ]
    },
    {
      "cell_type": "code",
      "metadata": {
        "id": "t4E_vdO85qzy"
      },
      "source": [
        "### 이곳에서 과제를 진행해 주세요 ### "
      ],
      "execution_count": null,
      "outputs": []
    }
  ]
}