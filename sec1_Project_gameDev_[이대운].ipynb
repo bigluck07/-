{
  "nbformat": 4,
  "nbformat_minor": 0,
  "metadata": {
    "colab": {
      "name": "sec1 Project_gameDev-[이대운].ipynb",
      "provenance": [],
      "collapsed_sections": [],
      "mount_file_id": "1SxCIMH3fowLboXg1jnElarrvEbvEABjI",
      "authorship_tag": "ABX9TyM7Ybwlg8NORcScdzk3VAwe",
      "include_colab_link": true
    },
    "kernelspec": {
      "name": "python3",
      "display_name": "Python 3"
    },
    "language_info": {
      "name": "python"
    }
  },
  "cells": [
    {
      "cell_type": "markdown",
      "metadata": {
        "id": "view-in-github",
        "colab_type": "text"
      },
      "source": [
        "<a href=\"https://colab.research.google.com/github/bigluck07/Code_States_Project/blob/main/sec1_Project_gameDev_%5B%EC%9D%B4%EB%8C%80%EC%9A%B4%5D.ipynb\" target=\"_parent\"><img src=\"https://colab.research.google.com/assets/colab-badge.svg\" alt=\"Open In Colab\"/></a>"
      ]
    },
    {
      "cell_type": "markdown",
      "metadata": {
        "id": "Mazov-NgNd3c"
      },
      "source": [
        "# 2022년 신작게임개발을 위한 데이터 분석\n",
        "### 대상: 전세계 게임시장\n",
        "### 근거자료 \n",
        "- 지역별 선호장르\n",
        "- 연도별 게임 트랜드\n",
        "- 출고량 높은 게임들의 분석 및 시각화\n"
      ]
    },
    {
      "cell_type": "code",
      "metadata": {
        "id": "r1CMbbHfMktG"
      },
      "source": [
        "# 데이터 불러오기\n",
        "import pandas as pd\n",
        "import numpy as np\n",
        "url = '/content/drive/MyDrive/vgames2.csv'\n",
        "df = pd.read_csv(url)\n",
        "df = df.drop(['Unnamed: 0'], axis=1) # 무의미한 feature제거\n",
        "df = df.drop_duplicates() #중복값 삭제\n"
      ],
      "execution_count": null,
      "outputs": []
    },
    {
      "cell_type": "code",
      "metadata": {
        "id": "IEXyElZ9ZssP"
      },
      "source": [
        "#전처리1 판매량 단위 맞추기(함수)\n",
        "def Mil(i):\n",
        "  i = str(i)\n",
        "  if i.endswith('M'):\n",
        "    i = i.replace('M','')\n",
        "    i = pd.to_numeric(i)\n",
        "  elif i.endswith('K'):\n",
        "    i = i.replace('K','')\n",
        "    i = pd.to_numeric(i)\n",
        "    i = i*0.001\n",
        "  else:\n",
        "    i = pd.to_numeric(i)\n",
        "  return i"
      ],
      "execution_count": null,
      "outputs": []
    },
    {
      "cell_type": "code",
      "metadata": {
        "id": "AXQJm8SpaA8c"
      },
      "source": [
        "#전처리1 판매량 단위 맞추기\n",
        "df['NA_Sales'] = df['NA_Sales'].apply(Mil)\n",
        "df['EU_Sales'] = df['EU_Sales'].apply(Mil)\n",
        "df['JP_Sales'] = df['JP_Sales'].apply(Mil)\n",
        "df['Other_Sales'] = df['Other_Sales'].apply(Mil)"
      ],
      "execution_count": null,
      "outputs": []
    },
    {
      "cell_type": "code",
      "metadata": {
        "id": "hwquIRBgiDBf"
      },
      "source": [
        "#전처리2 년도 네자리로 바꾸기(함수)\n",
        "def year(i):\n",
        "  try:\n",
        "    i = int(i)\n",
        "    if i > 1000:\n",
        "      i = i\n",
        "    elif i == 0:\n",
        "      i = i\n",
        "    elif i < 21:\n",
        "      i += 2000\n",
        "    elif i < 100:\n",
        "      i += 1900\n",
        "  except:\n",
        "    i = 0\n",
        "  return int(i)"
      ],
      "execution_count": null,
      "outputs": []
    },
    {
      "cell_type": "code",
      "metadata": {
        "id": "k_Xene4qvYut"
      },
      "source": [
        "# 전처리2 년도 4자리화+정수화\n",
        "df['Year'] = df['Year'].fillna(0)\n",
        "df['Year'] = df['Year'].apply(year)"
      ],
      "execution_count": null,
      "outputs": []
    },
    {
      "cell_type": "code",
      "metadata": {
        "id": "xl45EctRptbD"
      },
      "source": [
        "# 시리즈에서 유일한 요소 찾는 함수만들기\n",
        "def Filter(Serise):\n",
        "  y = Serise.values # 분류위한 칼럼\n",
        "  labels = []\n",
        "  yList = y.tolist()\n",
        "  for val in yList:\n",
        "    if val not in labels:\n",
        "      labels.append(val)\n",
        "  return labels"
      ],
      "execution_count": null,
      "outputs": []
    },
    {
      "cell_type": "code",
      "metadata": {
        "id": "rUd72XeGpyQm"
      },
      "source": [
        "# 필요한 변수\n",
        "genre = Filter(df['Genre'])\n",
        "genre # ['Action','Adventure','Misc','Platform','Sports','Simulation','Racing','Role-Playing','Puzzle','Strategy','Fighting','Shooter',nan]\n",
        "year = Filter(df['Year'])\n",
        "year.sort()\n",
        "year # [0, 1980, 1981, 1982, 1983, 1984, 1985, 1986, 1987, 1988, 1989, 1990, 1991, 1992, 1993, 1994, 1995, 1996, 1997, \n",
        "     #  1998, 1999, 2000, 2001, 2002, 2003, 2004, 2005, 2006, 2007, 2008, 2009, 2010, 2011, 2012, 2013, 2014, 2015, 2016, 2017, 2020]\n",
        "df.info()"
      ],
      "execution_count": null,
      "outputs": []
    },
    {
      "cell_type": "markdown",
      "metadata": {
        "id": "PzrjbzpaoQao"
      },
      "source": [
        "###지역별 선호장르"
      ]
    },
    {
      "cell_type": "code",
      "metadata": {
        "id": "J5sqgUCFyx_H"
      },
      "source": [
        "def count(Genre):\n",
        "  df_and = na[na['Genre'] == Genre]\n",
        "  print(Genre)\n",
        "  return df_and.sum()"
      ],
      "execution_count": null,
      "outputs": []
    },
    {
      "cell_type": "code",
      "metadata": {
        "id": "Fg3w306F4G4h"
      },
      "source": [
        "# 지역의 장르별 판매량(df)\n",
        "NA = {'Action' :874.81,'Adventure' :105.66,'Misc': 408.05,'Platform' :446.44,'Sports' :680.52,'Simulation' :182.96,\n",
        "      'Racing' :357.19,'Role-Playing' :319.54,'Puzzle' :123.35,'Strategy' :68.7,'Fighting' :223.2,'Shooter':581.92}\n",
        "      \n",
        "JP = {'Action': 157.9,'Adventure': 51.95,'Misc':105.27,'Platform': 130.65,'Sports': 135.37,'Simulation': 63.7,\n",
        "      'Racing': 56.4,'Role-Playing':344.95,'Puzzle':56.87,'Strategy':49.46,'Fighting':87.34,'Shooter':38.26}      \n",
        "\n",
        "EU = {'Action': 522.16,'Adventure' :64.05,'Misc' :212.36,'Platform' :201.61,'Sports' :376.48,'Simulation' :113.35,\n",
        "      'Racing' :237.1,'Role-Playing' :183.58,'Puzzle' :50.73,'Strategy' :45.32,'Fighting' :101.22,'Shooter' :313.05}\n",
        "\n",
        "Other = {'Action':186.45,'Adventure':16.81,'Misc':74.04,'Platform':51.53,'Sports' : 134.67,'Simulation' :31.48,\n",
        "         'Racing' :77.1,'Role-Playing': 6.96,'Puzzle' :12.52,'Strategy' :11.36,'Fighting': 36.64,'Shooter': 102.65}\n",
        "df_ctr = pd.DataFrame([NA,JP,EU,Other],index = ['NA','JP','EU','Other']).T #, row=['NA','JP','EU','Other'])"
      ],
      "execution_count": null,
      "outputs": []
    },
    {
      "cell_type": "markdown",
      "metadata": {
        "id": "zU1yKSySo2fX"
      },
      "source": [
        "## 지역별 선호장르 판단결과\n",
        "(총 출고량 기준)\n",
        "\n",
        " NA - 1.액션, 2.슈터, 3.스포츠, 4.플렛폼\n",
        " \n",
        " JP - 1.롤플레잉, 2.액션, 3.스포츠, 4.플렛폼\n",
        "\n",
        " EU - 1.액션, 2.스포츠, 3.슈터, 4.레이싱\n",
        "\n",
        " Other - 1.액션, 2.스포츠, 3.슈터, 4.레이싱/Misc\n",
        "\n",
        "> 지역별 차이는 존재하지만 [액션, 스포츠]는 모든지역에서 상위권에 해당.\n",
        "\n",
        "> 일본을 제외한 지역에서는 [슈터]또한 상위권에 해당.\n",
        " "
      ]
    },
    {
      "cell_type": "code",
      "metadata": {
        "id": "PhHTZhnufqzm"
      },
      "source": [
        "# 지역별 선호장르(시각화_pie그래프)\n",
        "\n",
        "#NA의 장르별판매량/총판매량의 백분율\n",
        "import matplotlib.pyplot as plt\n",
        "genre = ['Action','Adventure','Misc','Platform','Sports','Simulation','Racing','Role-Playing','Puzzle','Strategy','Fighting','Shooter']\n",
        "print('NA', '', '1:액션, 2: 슈터, 3:스포츠, 4:플렛폼')\n",
        "N_p = NA.values()\n",
        "explode = [0.2,0,0,0.1,0.15,0,0,0,0,0,0,0.15]\n",
        "plt.pie(N_p, labels=genre, autopct='%.1f%%', startangle=100, counterclock=False,explode=explode)\n",
        "plt.show()\n",
        "\n",
        "print('\\nJP', '', '1:롤플레잉, 2: 액션, 3: 스포츠, 4:플렛폼')\n",
        "J_p = JP.values()\n",
        "explode = [0.15,0,0,0.13,0.13,0,0,0.17,0,0,0,0]\n",
        "plt.pie(J_p, labels=genre, autopct='%.1f%%', startangle=300, counterclock=False,explode=explode)\n",
        "plt.show()"
      ],
      "execution_count": null,
      "outputs": []
    },
    {
      "cell_type": "code",
      "metadata": {
        "id": "3_vD0mZpXv11"
      },
      "source": [
        "print('\\nEU','', '1:액션, 2:스포츠, 3:슈터, 4:레이싱')\n",
        "E_p = EU.values()\n",
        "explode = [0.15,0,0,0,0.13,0,0.1,0,0,0,0,0.15]\n",
        "plt.pie(E_p, labels=genre, autopct='%.1f%%', startangle=90, counterclock=False,explode=explode)\n",
        "plt.show()\n",
        "\n",
        "print('\\nOther','','1:액션, 2:스포츠, 3:슈터, 4:레이싱/Misc')\n",
        "O_p = Other.values()\n",
        "explode = [0.15,0,0.1,0,0.15,0,0.1,0,0,0,0,0.15]\n",
        "plt.pie(O_p, labels=genre, autopct='%.1f%%', startangle=90, counterclock=False,explode=explode)\n",
        "plt.show()"
      ],
      "execution_count": null,
      "outputs": []
    },
    {
      "cell_type": "markdown",
      "metadata": {
        "id": "D1lLQpxdoykY"
      },
      "source": [
        "## 연도별 게임 트랜드\n",
        "\n"
      ]
    },
    {
      "cell_type": "code",
      "metadata": {
        "id": "CeiuVWdTJ_Ti"
      },
      "source": [
        "# 연도별 장르별 출고량의 평균(df)\n",
        "def trend(y):\n",
        "  yd = df[df['Year'] == y]\n",
        "  yd = yd[['Genre','NA_Sales',\t'EU_Sales',\t'JP_Sales',\t'Other_Sales']]\n",
        "  gr = yd.groupby(yd['Genre'])\n",
        "  gr_mean = gr.mean().T.apply(sum) # r.sum().T.apply(sum),\n",
        "  y_df = pd.DataFrame(gr_mean,columns = ['total'])\n",
        "  pp = y_df['total'].groupby(y_df.index)\n",
        "  pp = pp.mean()\n",
        "  pdf = pp.sort_values()[-5:]\n",
        "  pdf = pd.DataFrame(pdf)\n",
        "  pdf\n",
        "  return pdf"
      ],
      "execution_count": null,
      "outputs": []
    },
    {
      "cell_type": "code",
      "metadata": {
        "id": "3kfuXy2bpDTv"
      },
      "source": [
        "print('2010년', trend(2010),'\\n')\n",
        "print('2011년', trend(2011),'\\n')\n",
        "print('2012년', trend(2012),'\\n')\n",
        "print('2013년', trend(2013),'\\n')\n",
        "print('2014년', trend(2014),'\\n')\n",
        "print('2015년', trend(2015),'\\n')\n",
        "print('2016년', trend(2016),'\\n')\n",
        "print('2017년', trend(2017),'\\n')\n",
        "print('2020년', trend(2020),'\\n')"
      ],
      "execution_count": null,
      "outputs": []
    },
    {
      "cell_type": "code",
      "metadata": {
        "id": "y8ceWol5blLV"
      },
      "source": [
        "# 연도별 게임 트랜드(장르별 평균출고량 기준)\n",
        "print('2010년\\n',\n",
        "      '5.Action        0.519912\\n',\n",
        "      '4.Racing        0.612807\\n',\n",
        "      '3.Role-Playing  0.685049\\n',\n",
        "      '2.Shooter       0.956049\\n',\n",
        "      '1.Platform      1.031613\\n')\n",
        "\n",
        "print('2011년\\n',\n",
        "      '5.Action        0.497908\\n',\n",
        "      '4.Racing        0.538000\\n',\n",
        "      '3.Role-Playing  0.561263\\n',\n",
        "      '2.Platform      0.760000\\n',\n",
        "      '1.Shooter       1.056915\\n')\n",
        "\n",
        "print('2012년\\n',\n",
        "      '5.Misc          0.603421\\n',\n",
        "      '4.Role-Playing  0.612436\\n',\n",
        "      '3.Simulation    0.742778\\n',\n",
        "      '2.Shooter       1.517500\\n',\n",
        "      '1.Platform      1.546667\\n')\n",
        "\n",
        "print('2013년\\n',\n",
        "      '5.Platform  0.678108\\n',\n",
        "      '4.Sports    0.783774\\n',\n",
        "      '3.Racing    0.813750\\n',\n",
        "      '2.Action    0.846014\\n',\n",
        "      '1.Shooter   1.063220\\n') \n",
        "\n",
        "print('2014년\\n',    \n",
        "      '5.Racing    0.618889\\n',\n",
        "      '4.Fighting  0.702174\\n',\n",
        "      '3.Sports    0.848000\\n',\n",
        "      '2.Platform  0.887000\\n',\n",
        "      '1.Shooter   1.404043\\n ')\n",
        "\n",
        "print('2015년\\n',\n",
        "      '5.Racing        0.416842\\n',\n",
        "      '4.Platform      0.432143\\n',\n",
        "      '3.Role-Playing  0.467051\\n',\n",
        "      '2.Sports        0.669194\\n',\n",
        "      '1.Shooter       1.944706\\n')\n",
        "\n",
        "print('2016년\\n',\n",
        "      '5.Role-Playing  0.168750\\n',\n",
        "      '4.Platform      0.208000\\n',\n",
        "      '3.Fighting      0.275000\\n',\n",
        "      '2.Sports        0.385000\\n',\n",
        "      '1.Shooter       0.567812\\n')\n",
        "\n",
        "print('2017년\\n',\n",
        "      '2.Action         0.01\\n',\n",
        "      '1.Role-Playing   0.02\\n')\n",
        "\n",
        "print('2020년\\n',\n",
        "      '1.Simulation   0.29\\n')"
      ],
      "execution_count": null,
      "outputs": []
    },
    {
      "cell_type": "code",
      "metadata": {
        "id": "9q4P9u5TfWsu"
      },
      "source": [
        "df['Total']=df[['NA_Sales',\t'EU_Sales',\t'JP_Sales',\t'Other_Sales']].T.apply(sum)"
      ],
      "execution_count": null,
      "outputs": []
    },
    {
      "cell_type": "code",
      "metadata": {
        "id": "BijJ0bw3lNEG"
      },
      "source": [
        "# 출고량 높은 게임들의 분석 및 시각화\n",
        "df_bs = df[['Name',\t'Platform',\t'Year',\t'Genre',\t'Publisher', 'Total']].copy()"
      ],
      "execution_count": null,
      "outputs": []
    },
    {
      "cell_type": "code",
      "metadata": {
        "id": "9AMP_vfbqn5S"
      },
      "source": [
        "# 총출고량이 천만개 이상인 게임\n",
        "df_Bs=df_bs.sort_values(by='Total' ,ascending=False)[:62]\n",
        "df_Bs"
      ],
      "execution_count": null,
      "outputs": []
    },
    {
      "cell_type": "code",
      "metadata": {
        "id": "QerdUCHHyQcu"
      },
      "source": [
        "#출고량 천만이상 게임의 플렛폼, 장르, 제조사\n",
        "def array_count(array):\n",
        "  count={}\n",
        "  lists = array\n",
        "  for i in lists:\n",
        "      try: count[i] += 1\n",
        "      except: count[i]=1\n",
        "  return count\n",
        "\n",
        "Platform = df_Bs['Platform'].values\n",
        "Genre\t= df_Bs['Genre'].values\n",
        "Publisher = df_Bs['Publisher'].values\n",
        "\n",
        "Platform_count=pd.DataFrame(array_count(Platform), index=['Platform_count'])\n",
        "Genre_count=pd.DataFrame(array_count(Genre), index=['Genre_count'])\n",
        "Publisher_count=pd.DataFrame(array_count(Publisher), index=['Publisher_count'])"
      ],
      "execution_count": null,
      "outputs": []
    },
    {
      "cell_type": "code",
      "metadata": {
        "id": "uGS5WqXTzT2w"
      },
      "source": [
        "Platform_count"
      ],
      "execution_count": null,
      "outputs": []
    },
    {
      "cell_type": "code",
      "metadata": {
        "id": "WVDJNPMjwqym"
      },
      "source": [
        "def bar(df):\n",
        "  sns.barplot(data=df)\n",
        "  plt.show()\n",
        "bar(Platform_count)\n",
        "Platform_count"
      ],
      "execution_count": null,
      "outputs": []
    },
    {
      "cell_type": "code",
      "metadata": {
        "id": "z3_7AOXjxxfU"
      },
      "source": [
        "bar(Genre_count)\n",
        "Genre_count"
      ],
      "execution_count": null,
      "outputs": []
    },
    {
      "cell_type": "code",
      "metadata": {
        "id": "XyAb2wFVx1Zi"
      },
      "source": [
        "bar(Publisher_count)\n",
        "Publisher_count"
      ],
      "execution_count": null,
      "outputs": []
    },
    {
      "cell_type": "code",
      "metadata": {
        "id": "PiW7wc7n1eea"
      },
      "source": [
        "top10 = df_Bs[:5].copy()"
      ],
      "execution_count": null,
      "outputs": []
    },
    {
      "cell_type": "code",
      "metadata": {
        "id": "j9PxMQIDqCRX"
      },
      "source": [
        "from matplotlib import pyplot as plt\n",
        "import seaborn as sns\n",
        "sns.barplot(data=top10, x=top10['Name'], y=top10[\"Total\"])\n",
        "plt.show()\n",
        "top10[['Name','Total']]"
      ],
      "execution_count": null,
      "outputs": []
    },
    {
      "cell_type": "code",
      "metadata": {
        "id": "lto__Do_3q6H"
      },
      "source": [
        "'''\n",
        "# 년도의 출시된 게임장르 수 세는 함수\n",
        "def Genre_count(dfy):\n",
        "  ACT = dfy.count('Action')\n",
        "  adv = dfy.count('Adventure')\n",
        "  mi = dfy.count('Misc')\n",
        "  pltf = dfy.count('Platform')\n",
        "  spo = dfy.count('Sports')\n",
        "  Sim = dfy.count('Simulation')\n",
        "  Rac = dfy.count('Racing')\n",
        "  Rol = dfy.count('Role-Playing')\n",
        "  Puz = dfy.count('Puzzle')\n",
        "  Str = dfy.count('Strategy')\n",
        "  Fit = dfy.count('Fighting')\n",
        "  sht = dfy.count('Shooter')\n",
        "  nan = dfy.count('nan')\n",
        "  counts = [ACT, adv, mi, pltf, spo, Sim, Rac, Rol, Puz, Str, Fit, sht, nan]\n",
        "  return counts\n",
        "'''"
      ],
      "execution_count": null,
      "outputs": []
    }
  ]
}