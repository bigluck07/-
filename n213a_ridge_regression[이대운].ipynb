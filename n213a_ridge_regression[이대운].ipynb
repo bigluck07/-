{
  "nbformat": 4,
  "nbformat_minor": 0,
  "metadata": {
    "kernelspec": {
      "display_name": "Python 3",
      "language": "python",
      "name": "python3"
    },
    "language_info": {
      "codemirror_mode": {
        "name": "ipython",
        "version": 3
      },
      "file_extension": ".py",
      "mimetype": "text/x-python",
      "name": "python",
      "nbconvert_exporter": "python",
      "pygments_lexer": "ipython3",
      "version": "3.7.7"
    },
    "colab": {
      "name": "n213a-ridge-regression[이대운].ipynb",
      "provenance": [],
      "collapsed_sections": [],
      "include_colab_link": true
    }
  },
  "cells": [
    {
      "cell_type": "markdown",
      "metadata": {
        "id": "view-in-github",
        "colab_type": "text"
      },
      "source": [
        "<a href=\"https://colab.research.google.com/github/bigluck07/Code_States_Project/blob/main/n213a_ridge_regression%5B%EC%9D%B4%EB%8C%80%EC%9A%B4%5D.ipynb\" target=\"_parent\"><img src=\"https://colab.research.google.com/assets/colab-badge.svg\" alt=\"Open In Colab\"/></a>"
      ]
    },
    {
      "cell_type": "markdown",
      "metadata": {
        "id": "RM719bfazcFR"
      },
      "source": [
        "<img align=\"right\" src=\"https://ds-cs-images.s3.ap-northeast-2.amazonaws.com/Codestates_Fulllogo_Color.png\" width=100>\n",
        "\n",
        "## *DATA SCIENCE / SECTION 2 / SPRINT 1 / NOTE 3*\n",
        "\n",
        "# 📝 Assignment\n",
        "---"
      ]
    },
    {
      "cell_type": "markdown",
      "metadata": {
        "id": "7IXUfiQ2UKj6"
      },
      "source": [
        "# Ridge Regression\n",
        "\n",
        "이번 모듈에서 배운 내용을 조금 다른 데이터를 통해 복습해 봅시다. 데이터에 대한 정보는 다음 링크를 참조해 주세요.\n",
        "\n",
        "- [Melbourne Housing Market]('https://www.kaggle.com/anthonypino/melbourne-housing-market')\n",
        "\n",
        "이번에도 Price 변수를 target으로 정하고 모델을 구성해 봅시다."
      ]
    },
    {
      "cell_type": "code",
      "metadata": {
        "id": "JHY7Ds8ixyGe"
      },
      "source": [
        "import sys\n",
        "!{sys.executable} -m pip install -U pandas-profiling[notebook]\n",
        "!jupyter nbextension enable --py widgetsnbextension"
      ],
      "execution_count": null,
      "outputs": []
    },
    {
      "cell_type": "code",
      "metadata": {
        "id": "j5vNO6LGx14S"
      },
      "source": [
        "!pip install pandas_profiling --upgrade"
      ],
      "execution_count": null,
      "outputs": []
    },
    {
      "cell_type": "code",
      "metadata": {
        "id": "jGYG7Vj972km"
      },
      "source": [
        "pip install --upgrade scikit-learn"
      ],
      "execution_count": null,
      "outputs": []
    },
    {
      "cell_type": "code",
      "metadata": {
        "id": "wPramj-C8ON-"
      },
      "source": [
        "pip install category_encoders"
      ],
      "execution_count": null,
      "outputs": []
    },
    {
      "cell_type": "code",
      "metadata": {
        "colab": {
          "base_uri": "https://localhost:8080/"
        },
        "id": "T9kDDflU9LpF",
        "outputId": "efdf8461-c608-4c70-edab-61dc752b11fd"
      },
      "source": [
        "!pip list | grep scikit-learn"
      ],
      "execution_count": 74,
      "outputs": [
        {
          "output_type": "stream",
          "text": [
            "scikit-learn                  0.24.1        \n"
          ],
          "name": "stdout"
        }
      ]
    },
    {
      "cell_type": "code",
      "metadata": {
        "id": "QJBD4ruICm1m"
      },
      "source": [
        "import pandas as pd\n",
        "from pandas_profiling import ProfileReport # 변수들에 대한 통계량을 한눈에 보기 쉽게 리포팅 해줌\n",
        "from sklearn.model_selection import train_test_split\n",
        "\n",
        "# get data\n",
        "df = pd.read_csv('https://ds-lecture-data.s3.ap-northeast-2.amazonaws.com/melbourne_house_prices/MELBOURNE_HOUSE_PRICES_LESS.csv')\n",
        "\n",
        "# drop high cardinality cols\n",
        "df.drop(columns=['Suburb','Address','SellerG','Date'], inplace=True)\n",
        "\n",
        "# drop na values in Price\n",
        "df.dropna(subset=['Price'], inplace=True)\n",
        "\n",
        "# drop duplicated rows\n",
        "df.drop_duplicates(inplace=True)"
      ],
      "execution_count": 6,
      "outputs": []
    },
    {
      "cell_type": "code",
      "metadata": {
        "colab": {
          "base_uri": "https://localhost:8080/",
          "height": 309
        },
        "id": "02iNsqC3qPmR",
        "outputId": "83cc5129-19fb-48db-bd6c-33276f13dfeb"
      },
      "source": [
        "df.head()"
      ],
      "execution_count": 7,
      "outputs": [
        {
          "output_type": "execute_result",
          "data": {
            "text/html": [
              "<div>\n",
              "<style scoped>\n",
              "    .dataframe tbody tr th:only-of-type {\n",
              "        vertical-align: middle;\n",
              "    }\n",
              "\n",
              "    .dataframe tbody tr th {\n",
              "        vertical-align: top;\n",
              "    }\n",
              "\n",
              "    .dataframe thead th {\n",
              "        text-align: right;\n",
              "    }\n",
              "</style>\n",
              "<table border=\"1\" class=\"dataframe\">\n",
              "  <thead>\n",
              "    <tr style=\"text-align: right;\">\n",
              "      <th></th>\n",
              "      <th>Rooms</th>\n",
              "      <th>Type</th>\n",
              "      <th>Price</th>\n",
              "      <th>Method</th>\n",
              "      <th>Postcode</th>\n",
              "      <th>Regionname</th>\n",
              "      <th>Propertycount</th>\n",
              "      <th>Distance</th>\n",
              "      <th>CouncilArea</th>\n",
              "    </tr>\n",
              "  </thead>\n",
              "  <tbody>\n",
              "    <tr>\n",
              "      <th>0</th>\n",
              "      <td>3</td>\n",
              "      <td>h</td>\n",
              "      <td>1490000.0</td>\n",
              "      <td>S</td>\n",
              "      <td>3067</td>\n",
              "      <td>Northern Metropolitan</td>\n",
              "      <td>4019</td>\n",
              "      <td>3.0</td>\n",
              "      <td>Yarra City Council</td>\n",
              "    </tr>\n",
              "    <tr>\n",
              "      <th>1</th>\n",
              "      <td>3</td>\n",
              "      <td>h</td>\n",
              "      <td>1220000.0</td>\n",
              "      <td>S</td>\n",
              "      <td>3067</td>\n",
              "      <td>Northern Metropolitan</td>\n",
              "      <td>4019</td>\n",
              "      <td>3.0</td>\n",
              "      <td>Yarra City Council</td>\n",
              "    </tr>\n",
              "    <tr>\n",
              "      <th>2</th>\n",
              "      <td>3</td>\n",
              "      <td>h</td>\n",
              "      <td>1420000.0</td>\n",
              "      <td>S</td>\n",
              "      <td>3067</td>\n",
              "      <td>Northern Metropolitan</td>\n",
              "      <td>4019</td>\n",
              "      <td>3.0</td>\n",
              "      <td>Yarra City Council</td>\n",
              "    </tr>\n",
              "    <tr>\n",
              "      <th>3</th>\n",
              "      <td>3</td>\n",
              "      <td>h</td>\n",
              "      <td>1515000.0</td>\n",
              "      <td>S</td>\n",
              "      <td>3040</td>\n",
              "      <td>Western Metropolitan</td>\n",
              "      <td>1543</td>\n",
              "      <td>7.5</td>\n",
              "      <td>Moonee Valley City Council</td>\n",
              "    </tr>\n",
              "    <tr>\n",
              "      <th>4</th>\n",
              "      <td>2</td>\n",
              "      <td>h</td>\n",
              "      <td>670000.0</td>\n",
              "      <td>S</td>\n",
              "      <td>3042</td>\n",
              "      <td>Western Metropolitan</td>\n",
              "      <td>3464</td>\n",
              "      <td>10.4</td>\n",
              "      <td>Moonee Valley City Council</td>\n",
              "    </tr>\n",
              "  </tbody>\n",
              "</table>\n",
              "</div>"
            ],
            "text/plain": [
              "   Rooms Type      Price  ... Propertycount  Distance                 CouncilArea\n",
              "0      3    h  1490000.0  ...          4019       3.0          Yarra City Council\n",
              "1      3    h  1220000.0  ...          4019       3.0          Yarra City Council\n",
              "2      3    h  1420000.0  ...          4019       3.0          Yarra City Council\n",
              "3      3    h  1515000.0  ...          1543       7.5  Moonee Valley City Council\n",
              "4      2    h   670000.0  ...          3464      10.4  Moonee Valley City Council\n",
              "\n",
              "[5 rows x 9 columns]"
            ]
          },
          "metadata": {
            "tags": []
          },
          "execution_count": 7
        }
      ]
    },
    {
      "cell_type": "markdown",
      "metadata": {
        "id": "YwyG4Rc5zcFk"
      },
      "source": [
        "### 1) 데이터의 특성을 파악하기 위해 pandas_profiling을 사용해 보세요.\n",
        "- **범주형 특성으로 원핫인코딩이 꼭 필요한 특성의 갯수를 과제 제출폼에 제출하세요.**"
      ]
    },
    {
      "cell_type": "code",
      "metadata": {
        "id": "58xYSU__vSbJ"
      },
      "source": [
        "profile = ProfileReport(df, minimal=True)\n",
        "profile"
      ],
      "execution_count": null,
      "outputs": []
    },
    {
      "cell_type": "markdown",
      "metadata": {
        "id": "lIdv75niyvzj"
      },
      "source": [
        "카테고리 데이터 4개"
      ]
    },
    {
      "cell_type": "markdown",
      "metadata": {
        "id": "ocZCAb5SzcFl"
      },
      "source": [
        "### 2) 범주형 변수들에 대해 one-hot encoding(category_encoders)을 수행하고 데이터를 train/test 셋으로 무작위로 나누어 주세요.(train/test = 80%/20%)\n",
        "- [category_encoders.one_hot.OneHotEncoder](https://contrib.scikit-learn.org/category_encoders/onehot.html#one-hot), 파라미터는 use_cat_names = True 사용\n",
        "- 데이터 분리는 [sklearn.model_selection.train_test_split](https://scikit-learn.org/stable/modules/generated/sklearn.model_selection.train_test_split.html?highlight=train%20test%20split#sklearn-model-selection-train-test-split) 을 사용해 주세요. 사용해야 하는 파라미터는 test_size, train_size, random_state=2 입니다. 나머지는 default 사용합니다.\n",
        "- **분리된 학습데이터의 첫번째 샘플의 인덱스 값를 과제 제출폼에 제출하세요.**\n"
      ]
    },
    {
      "cell_type": "code",
      "metadata": {
        "id": "HvAo7f9PzcFl",
        "colab": {
          "base_uri": "https://localhost:8080/"
        },
        "outputId": "75e15981-b746-4e32-d501-78e805eef295"
      },
      "source": [
        "from category_encoders import OneHotEncoder\n",
        "\n",
        "## 원핫 인코딩\n",
        "encoder = OneHotEncoder(use_cat_names = True)\n",
        "# 범주형 데이터의 인코딩 여기서는 type, methodm regionname, councilarea\n",
        "df_OneHot = encoder.fit_transform(df) \n",
        "df_OneHot.shape"
      ],
      "execution_count": 62,
      "outputs": [
        {
          "output_type": "stream",
          "text": [
            "/usr/local/lib/python3.7/dist-packages/category_encoders/utils.py:21: FutureWarning: is_categorical is deprecated and will be removed in a future version.  Use is_categorical_dtype instead\n",
            "  elif pd.api.types.is_categorical(cols):\n"
          ],
          "name": "stderr"
        },
        {
          "output_type": "execute_result",
          "data": {
            "text/plain": [
              "(42515, 55)"
            ]
          },
          "metadata": {
            "tags": []
          },
          "execution_count": 62
        }
      ]
    },
    {
      "cell_type": "code",
      "metadata": {
        "colab": {
          "base_uri": "https://localhost:8080/"
        },
        "id": "hDalYr2W36bb",
        "outputId": "32f7bb64-49bd-44aa-e0b7-f29436eb477a"
      },
      "source": [
        "# 특성 간 독립성을 위한 불필요 피쳐 제거\n",
        "df_OneHot = feature.drop(['Type_t', 'Method_SA','Regionname_Western Victoria','CouncilArea_Murrindindi Shire Council'],axis=1)\n",
        "df_OneHot.shape"
      ],
      "execution_count": 63,
      "outputs": [
        {
          "output_type": "execute_result",
          "data": {
            "text/plain": [
              "(42515, 51)"
            ]
          },
          "metadata": {
            "tags": []
          },
          "execution_count": 63
        }
      ]
    },
    {
      "cell_type": "code",
      "metadata": {
        "colab": {
          "base_uri": "https://localhost:8080/"
        },
        "id": "yFUIl1j8K3is",
        "outputId": "4f9cd62a-49b5-4a1e-ae11-5810c56a8010"
      },
      "source": [
        "# train, test 데이터 분리 8:2\n",
        "\n",
        "train, test = train_test_split(df_OneHot, test_size = 0.2, random_state=2)\n",
        "\n",
        "train.shape , test.shape"
      ],
      "execution_count": 66,
      "outputs": [
        {
          "output_type": "execute_result",
          "data": {
            "text/plain": [
              "((34012, 51), (8503, 51))"
            ]
          },
          "metadata": {
            "tags": []
          },
          "execution_count": 66
        }
      ]
    },
    {
      "cell_type": "code",
      "metadata": {
        "colab": {
          "base_uri": "https://localhost:8080/"
        },
        "id": "c1a07Fy64ibL",
        "outputId": "36fe2c0b-ea2b-43c8-ac59-3d292d03fc5c"
      },
      "source": [
        "# target 값 제외 - 트레이\n",
        "X_train = train.drop(columns = 'Price')\n",
        "y_train = train['Price']\n",
        "X_test = test.drop(columns = 'Price')\n",
        "y_test = test['Price']\n",
        "train.shape , test.shape"
      ],
      "execution_count": 67,
      "outputs": [
        {
          "output_type": "execute_result",
          "data": {
            "text/plain": [
              "((34012, 51), (8503, 51))"
            ]
          },
          "metadata": {
            "tags": []
          },
          "execution_count": 67
        }
      ]
    },
    {
      "cell_type": "code",
      "metadata": {
        "colab": {
          "base_uri": "https://localhost:8080/",
          "height": 258
        },
        "id": "04yuyUiXjnzP",
        "outputId": "726b1639-d6b3-4b0e-f062-be3860b0e6c0"
      },
      "source": [
        "train.head() # 첫번째 인덱스 = 602"
      ],
      "execution_count": 68,
      "outputs": [
        {
          "output_type": "execute_result",
          "data": {
            "text/html": [
              "<div>\n",
              "<style scoped>\n",
              "    .dataframe tbody tr th:only-of-type {\n",
              "        vertical-align: middle;\n",
              "    }\n",
              "\n",
              "    .dataframe tbody tr th {\n",
              "        vertical-align: top;\n",
              "    }\n",
              "\n",
              "    .dataframe thead th {\n",
              "        text-align: right;\n",
              "    }\n",
              "</style>\n",
              "<table border=\"1\" class=\"dataframe\">\n",
              "  <thead>\n",
              "    <tr style=\"text-align: right;\">\n",
              "      <th></th>\n",
              "      <th>Rooms</th>\n",
              "      <th>Price</th>\n",
              "      <th>Type_h</th>\n",
              "      <th>Type_u</th>\n",
              "      <th>Method_S</th>\n",
              "      <th>Method_SP</th>\n",
              "      <th>Method_VB</th>\n",
              "      <th>Method_PI</th>\n",
              "      <th>Postcode</th>\n",
              "      <th>Regionname_Northern Metropolitan</th>\n",
              "      <th>Regionname_Western Metropolitan</th>\n",
              "      <th>Regionname_Southern Metropolitan</th>\n",
              "      <th>Regionname_South-Eastern Metropolitan</th>\n",
              "      <th>Regionname_Eastern Metropolitan</th>\n",
              "      <th>Regionname_Northern Victoria</th>\n",
              "      <th>Regionname_Eastern Victoria</th>\n",
              "      <th>Propertycount</th>\n",
              "      <th>Distance</th>\n",
              "      <th>CouncilArea_Yarra City Council</th>\n",
              "      <th>CouncilArea_Moonee Valley City Council</th>\n",
              "      <th>CouncilArea_Port Phillip City Council</th>\n",
              "      <th>CouncilArea_Brimbank City Council</th>\n",
              "      <th>CouncilArea_Darebin City Council</th>\n",
              "      <th>CouncilArea_Hobsons Bay City Council</th>\n",
              "      <th>CouncilArea_Stonnington City Council</th>\n",
              "      <th>CouncilArea_Boroondara City Council</th>\n",
              "      <th>CouncilArea_Monash City Council</th>\n",
              "      <th>CouncilArea_Kingston City Council</th>\n",
              "      <th>CouncilArea_Maroondah City Council</th>\n",
              "      <th>CouncilArea_Bayside City Council</th>\n",
              "      <th>CouncilArea_Banyule City Council</th>\n",
              "      <th>CouncilArea_Glen Eira City Council</th>\n",
              "      <th>CouncilArea_Whitehorse City Council</th>\n",
              "      <th>CouncilArea_Maribyrnong City Council</th>\n",
              "      <th>CouncilArea_Hume City Council</th>\n",
              "      <th>CouncilArea_Moreland City Council</th>\n",
              "      <th>CouncilArea_Manningham City Council</th>\n",
              "      <th>CouncilArea_Melbourne City Council</th>\n",
              "      <th>CouncilArea_Melton City Council</th>\n",
              "      <th>CouncilArea_Frankston City Council</th>\n",
              "      <th>CouncilArea_Casey City Council</th>\n",
              "      <th>CouncilArea_Greater Dandenong City Council</th>\n",
              "      <th>CouncilArea_Nillumbik Shire Council</th>\n",
              "      <th>CouncilArea_Whittlesea City Council</th>\n",
              "      <th>CouncilArea_Knox City Council</th>\n",
              "      <th>CouncilArea_Wyndham City Council</th>\n",
              "      <th>CouncilArea_Yarra Ranges Shire Council</th>\n",
              "      <th>CouncilArea_Cardinia Shire Council</th>\n",
              "      <th>CouncilArea_Macedon Ranges Shire Council</th>\n",
              "      <th>CouncilArea_Mitchell Shire Council</th>\n",
              "      <th>CouncilArea_Moorabool Shire Council</th>\n",
              "    </tr>\n",
              "  </thead>\n",
              "  <tbody>\n",
              "    <tr>\n",
              "      <th>602</th>\n",
              "      <td>4</td>\n",
              "      <td>1750000.0</td>\n",
              "      <td>1</td>\n",
              "      <td>0</td>\n",
              "      <td>1</td>\n",
              "      <td>0</td>\n",
              "      <td>0</td>\n",
              "      <td>0</td>\n",
              "      <td>3106</td>\n",
              "      <td>0</td>\n",
              "      <td>0</td>\n",
              "      <td>0</td>\n",
              "      <td>0</td>\n",
              "      <td>1</td>\n",
              "      <td>0</td>\n",
              "      <td>0</td>\n",
              "      <td>6202</td>\n",
              "      <td>15.5</td>\n",
              "      <td>0</td>\n",
              "      <td>0</td>\n",
              "      <td>0</td>\n",
              "      <td>0</td>\n",
              "      <td>0</td>\n",
              "      <td>0</td>\n",
              "      <td>0</td>\n",
              "      <td>0</td>\n",
              "      <td>0</td>\n",
              "      <td>0</td>\n",
              "      <td>0</td>\n",
              "      <td>0</td>\n",
              "      <td>0</td>\n",
              "      <td>0</td>\n",
              "      <td>0</td>\n",
              "      <td>0</td>\n",
              "      <td>0</td>\n",
              "      <td>0</td>\n",
              "      <td>1</td>\n",
              "      <td>0</td>\n",
              "      <td>0</td>\n",
              "      <td>0</td>\n",
              "      <td>0</td>\n",
              "      <td>0</td>\n",
              "      <td>0</td>\n",
              "      <td>0</td>\n",
              "      <td>0</td>\n",
              "      <td>0</td>\n",
              "      <td>0</td>\n",
              "      <td>0</td>\n",
              "      <td>0</td>\n",
              "      <td>0</td>\n",
              "      <td>0</td>\n",
              "    </tr>\n",
              "    <tr>\n",
              "      <th>40851</th>\n",
              "      <td>5</td>\n",
              "      <td>900000.0</td>\n",
              "      <td>1</td>\n",
              "      <td>0</td>\n",
              "      <td>1</td>\n",
              "      <td>0</td>\n",
              "      <td>0</td>\n",
              "      <td>0</td>\n",
              "      <td>3169</td>\n",
              "      <td>0</td>\n",
              "      <td>0</td>\n",
              "      <td>0</td>\n",
              "      <td>1</td>\n",
              "      <td>0</td>\n",
              "      <td>0</td>\n",
              "      <td>0</td>\n",
              "      <td>2727</td>\n",
              "      <td>17.5</td>\n",
              "      <td>0</td>\n",
              "      <td>0</td>\n",
              "      <td>0</td>\n",
              "      <td>0</td>\n",
              "      <td>0</td>\n",
              "      <td>0</td>\n",
              "      <td>0</td>\n",
              "      <td>0</td>\n",
              "      <td>0</td>\n",
              "      <td>1</td>\n",
              "      <td>0</td>\n",
              "      <td>0</td>\n",
              "      <td>0</td>\n",
              "      <td>0</td>\n",
              "      <td>0</td>\n",
              "      <td>0</td>\n",
              "      <td>0</td>\n",
              "      <td>0</td>\n",
              "      <td>0</td>\n",
              "      <td>0</td>\n",
              "      <td>0</td>\n",
              "      <td>0</td>\n",
              "      <td>0</td>\n",
              "      <td>0</td>\n",
              "      <td>0</td>\n",
              "      <td>0</td>\n",
              "      <td>0</td>\n",
              "      <td>0</td>\n",
              "      <td>0</td>\n",
              "      <td>0</td>\n",
              "      <td>0</td>\n",
              "      <td>0</td>\n",
              "      <td>0</td>\n",
              "    </tr>\n",
              "    <tr>\n",
              "      <th>57233</th>\n",
              "      <td>4</td>\n",
              "      <td>530000.0</td>\n",
              "      <td>1</td>\n",
              "      <td>0</td>\n",
              "      <td>0</td>\n",
              "      <td>0</td>\n",
              "      <td>1</td>\n",
              "      <td>0</td>\n",
              "      <td>3028</td>\n",
              "      <td>0</td>\n",
              "      <td>1</td>\n",
              "      <td>0</td>\n",
              "      <td>0</td>\n",
              "      <td>0</td>\n",
              "      <td>0</td>\n",
              "      <td>0</td>\n",
              "      <td>7630</td>\n",
              "      <td>15.5</td>\n",
              "      <td>0</td>\n",
              "      <td>0</td>\n",
              "      <td>0</td>\n",
              "      <td>0</td>\n",
              "      <td>0</td>\n",
              "      <td>1</td>\n",
              "      <td>0</td>\n",
              "      <td>0</td>\n",
              "      <td>0</td>\n",
              "      <td>0</td>\n",
              "      <td>0</td>\n",
              "      <td>0</td>\n",
              "      <td>0</td>\n",
              "      <td>0</td>\n",
              "      <td>0</td>\n",
              "      <td>0</td>\n",
              "      <td>0</td>\n",
              "      <td>0</td>\n",
              "      <td>0</td>\n",
              "      <td>0</td>\n",
              "      <td>0</td>\n",
              "      <td>0</td>\n",
              "      <td>0</td>\n",
              "      <td>0</td>\n",
              "      <td>0</td>\n",
              "      <td>0</td>\n",
              "      <td>0</td>\n",
              "      <td>0</td>\n",
              "      <td>0</td>\n",
              "      <td>0</td>\n",
              "      <td>0</td>\n",
              "      <td>0</td>\n",
              "      <td>0</td>\n",
              "    </tr>\n",
              "    <tr>\n",
              "      <th>8816</th>\n",
              "      <td>4</td>\n",
              "      <td>975000.0</td>\n",
              "      <td>1</td>\n",
              "      <td>0</td>\n",
              "      <td>1</td>\n",
              "      <td>0</td>\n",
              "      <td>0</td>\n",
              "      <td>0</td>\n",
              "      <td>3033</td>\n",
              "      <td>0</td>\n",
              "      <td>1</td>\n",
              "      <td>0</td>\n",
              "      <td>0</td>\n",
              "      <td>0</td>\n",
              "      <td>0</td>\n",
              "      <td>0</td>\n",
              "      <td>5629</td>\n",
              "      <td>11.7</td>\n",
              "      <td>0</td>\n",
              "      <td>0</td>\n",
              "      <td>0</td>\n",
              "      <td>1</td>\n",
              "      <td>0</td>\n",
              "      <td>0</td>\n",
              "      <td>0</td>\n",
              "      <td>0</td>\n",
              "      <td>0</td>\n",
              "      <td>0</td>\n",
              "      <td>0</td>\n",
              "      <td>0</td>\n",
              "      <td>0</td>\n",
              "      <td>0</td>\n",
              "      <td>0</td>\n",
              "      <td>0</td>\n",
              "      <td>0</td>\n",
              "      <td>0</td>\n",
              "      <td>0</td>\n",
              "      <td>0</td>\n",
              "      <td>0</td>\n",
              "      <td>0</td>\n",
              "      <td>0</td>\n",
              "      <td>0</td>\n",
              "      <td>0</td>\n",
              "      <td>0</td>\n",
              "      <td>0</td>\n",
              "      <td>0</td>\n",
              "      <td>0</td>\n",
              "      <td>0</td>\n",
              "      <td>0</td>\n",
              "      <td>0</td>\n",
              "      <td>0</td>\n",
              "    </tr>\n",
              "    <tr>\n",
              "      <th>3481</th>\n",
              "      <td>3</td>\n",
              "      <td>556000.0</td>\n",
              "      <td>1</td>\n",
              "      <td>0</td>\n",
              "      <td>1</td>\n",
              "      <td>0</td>\n",
              "      <td>0</td>\n",
              "      <td>0</td>\n",
              "      <td>3076</td>\n",
              "      <td>1</td>\n",
              "      <td>0</td>\n",
              "      <td>0</td>\n",
              "      <td>0</td>\n",
              "      <td>0</td>\n",
              "      <td>0</td>\n",
              "      <td>0</td>\n",
              "      <td>10926</td>\n",
              "      <td>19.6</td>\n",
              "      <td>0</td>\n",
              "      <td>0</td>\n",
              "      <td>0</td>\n",
              "      <td>0</td>\n",
              "      <td>0</td>\n",
              "      <td>0</td>\n",
              "      <td>0</td>\n",
              "      <td>0</td>\n",
              "      <td>0</td>\n",
              "      <td>0</td>\n",
              "      <td>0</td>\n",
              "      <td>0</td>\n",
              "      <td>0</td>\n",
              "      <td>0</td>\n",
              "      <td>0</td>\n",
              "      <td>0</td>\n",
              "      <td>0</td>\n",
              "      <td>0</td>\n",
              "      <td>0</td>\n",
              "      <td>0</td>\n",
              "      <td>0</td>\n",
              "      <td>0</td>\n",
              "      <td>0</td>\n",
              "      <td>0</td>\n",
              "      <td>0</td>\n",
              "      <td>1</td>\n",
              "      <td>0</td>\n",
              "      <td>0</td>\n",
              "      <td>0</td>\n",
              "      <td>0</td>\n",
              "      <td>0</td>\n",
              "      <td>0</td>\n",
              "      <td>0</td>\n",
              "    </tr>\n",
              "  </tbody>\n",
              "</table>\n",
              "</div>"
            ],
            "text/plain": [
              "       Rooms  ...  CouncilArea_Moorabool Shire Council\n",
              "602        4  ...                                    0\n",
              "40851      5  ...                                    0\n",
              "57233      4  ...                                    0\n",
              "8816       4  ...                                    0\n",
              "3481       3  ...                                    0\n",
              "\n",
              "[5 rows x 51 columns]"
            ]
          },
          "metadata": {
            "tags": []
          },
          "execution_count": 68
        }
      ]
    },
    {
      "cell_type": "code",
      "metadata": {
        "colab": {
          "base_uri": "https://localhost:8080/",
          "height": 258
        },
        "id": "IcTb1Yej5CGp",
        "outputId": "f638c60e-b3f7-47ff-82c6-189cb2ead74e"
      },
      "source": [
        "test.head()"
      ],
      "execution_count": 69,
      "outputs": [
        {
          "output_type": "execute_result",
          "data": {
            "text/html": [
              "<div>\n",
              "<style scoped>\n",
              "    .dataframe tbody tr th:only-of-type {\n",
              "        vertical-align: middle;\n",
              "    }\n",
              "\n",
              "    .dataframe tbody tr th {\n",
              "        vertical-align: top;\n",
              "    }\n",
              "\n",
              "    .dataframe thead th {\n",
              "        text-align: right;\n",
              "    }\n",
              "</style>\n",
              "<table border=\"1\" class=\"dataframe\">\n",
              "  <thead>\n",
              "    <tr style=\"text-align: right;\">\n",
              "      <th></th>\n",
              "      <th>Rooms</th>\n",
              "      <th>Price</th>\n",
              "      <th>Type_h</th>\n",
              "      <th>Type_u</th>\n",
              "      <th>Method_S</th>\n",
              "      <th>Method_SP</th>\n",
              "      <th>Method_VB</th>\n",
              "      <th>Method_PI</th>\n",
              "      <th>Postcode</th>\n",
              "      <th>Regionname_Northern Metropolitan</th>\n",
              "      <th>Regionname_Western Metropolitan</th>\n",
              "      <th>Regionname_Southern Metropolitan</th>\n",
              "      <th>Regionname_South-Eastern Metropolitan</th>\n",
              "      <th>Regionname_Eastern Metropolitan</th>\n",
              "      <th>Regionname_Northern Victoria</th>\n",
              "      <th>Regionname_Eastern Victoria</th>\n",
              "      <th>Propertycount</th>\n",
              "      <th>Distance</th>\n",
              "      <th>CouncilArea_Yarra City Council</th>\n",
              "      <th>CouncilArea_Moonee Valley City Council</th>\n",
              "      <th>CouncilArea_Port Phillip City Council</th>\n",
              "      <th>CouncilArea_Brimbank City Council</th>\n",
              "      <th>CouncilArea_Darebin City Council</th>\n",
              "      <th>CouncilArea_Hobsons Bay City Council</th>\n",
              "      <th>CouncilArea_Stonnington City Council</th>\n",
              "      <th>CouncilArea_Boroondara City Council</th>\n",
              "      <th>CouncilArea_Monash City Council</th>\n",
              "      <th>CouncilArea_Kingston City Council</th>\n",
              "      <th>CouncilArea_Maroondah City Council</th>\n",
              "      <th>CouncilArea_Bayside City Council</th>\n",
              "      <th>CouncilArea_Banyule City Council</th>\n",
              "      <th>CouncilArea_Glen Eira City Council</th>\n",
              "      <th>CouncilArea_Whitehorse City Council</th>\n",
              "      <th>CouncilArea_Maribyrnong City Council</th>\n",
              "      <th>CouncilArea_Hume City Council</th>\n",
              "      <th>CouncilArea_Moreland City Council</th>\n",
              "      <th>CouncilArea_Manningham City Council</th>\n",
              "      <th>CouncilArea_Melbourne City Council</th>\n",
              "      <th>CouncilArea_Melton City Council</th>\n",
              "      <th>CouncilArea_Frankston City Council</th>\n",
              "      <th>CouncilArea_Casey City Council</th>\n",
              "      <th>CouncilArea_Greater Dandenong City Council</th>\n",
              "      <th>CouncilArea_Nillumbik Shire Council</th>\n",
              "      <th>CouncilArea_Whittlesea City Council</th>\n",
              "      <th>CouncilArea_Knox City Council</th>\n",
              "      <th>CouncilArea_Wyndham City Council</th>\n",
              "      <th>CouncilArea_Yarra Ranges Shire Council</th>\n",
              "      <th>CouncilArea_Cardinia Shire Council</th>\n",
              "      <th>CouncilArea_Macedon Ranges Shire Council</th>\n",
              "      <th>CouncilArea_Mitchell Shire Council</th>\n",
              "      <th>CouncilArea_Moorabool Shire Council</th>\n",
              "    </tr>\n",
              "  </thead>\n",
              "  <tbody>\n",
              "    <tr>\n",
              "      <th>60324</th>\n",
              "      <td>4</td>\n",
              "      <td>1062000.0</td>\n",
              "      <td>1</td>\n",
              "      <td>0</td>\n",
              "      <td>1</td>\n",
              "      <td>0</td>\n",
              "      <td>0</td>\n",
              "      <td>0</td>\n",
              "      <td>3172</td>\n",
              "      <td>0</td>\n",
              "      <td>0</td>\n",
              "      <td>0</td>\n",
              "      <td>1</td>\n",
              "      <td>0</td>\n",
              "      <td>0</td>\n",
              "      <td>0</td>\n",
              "      <td>3940</td>\n",
              "      <td>22.2</td>\n",
              "      <td>0</td>\n",
              "      <td>0</td>\n",
              "      <td>0</td>\n",
              "      <td>0</td>\n",
              "      <td>0</td>\n",
              "      <td>0</td>\n",
              "      <td>0</td>\n",
              "      <td>0</td>\n",
              "      <td>0</td>\n",
              "      <td>1</td>\n",
              "      <td>0</td>\n",
              "      <td>0</td>\n",
              "      <td>0</td>\n",
              "      <td>0</td>\n",
              "      <td>0</td>\n",
              "      <td>0</td>\n",
              "      <td>0</td>\n",
              "      <td>0</td>\n",
              "      <td>0</td>\n",
              "      <td>0</td>\n",
              "      <td>0</td>\n",
              "      <td>0</td>\n",
              "      <td>0</td>\n",
              "      <td>0</td>\n",
              "      <td>0</td>\n",
              "      <td>0</td>\n",
              "      <td>0</td>\n",
              "      <td>0</td>\n",
              "      <td>0</td>\n",
              "      <td>0</td>\n",
              "      <td>0</td>\n",
              "      <td>0</td>\n",
              "      <td>0</td>\n",
              "    </tr>\n",
              "    <tr>\n",
              "      <th>20098</th>\n",
              "      <td>3</td>\n",
              "      <td>1306000.0</td>\n",
              "      <td>1</td>\n",
              "      <td>0</td>\n",
              "      <td>1</td>\n",
              "      <td>0</td>\n",
              "      <td>0</td>\n",
              "      <td>0</td>\n",
              "      <td>3130</td>\n",
              "      <td>0</td>\n",
              "      <td>0</td>\n",
              "      <td>0</td>\n",
              "      <td>0</td>\n",
              "      <td>1</td>\n",
              "      <td>0</td>\n",
              "      <td>0</td>\n",
              "      <td>5713</td>\n",
              "      <td>13.4</td>\n",
              "      <td>0</td>\n",
              "      <td>0</td>\n",
              "      <td>0</td>\n",
              "      <td>0</td>\n",
              "      <td>0</td>\n",
              "      <td>0</td>\n",
              "      <td>0</td>\n",
              "      <td>0</td>\n",
              "      <td>0</td>\n",
              "      <td>0</td>\n",
              "      <td>0</td>\n",
              "      <td>0</td>\n",
              "      <td>0</td>\n",
              "      <td>0</td>\n",
              "      <td>1</td>\n",
              "      <td>0</td>\n",
              "      <td>0</td>\n",
              "      <td>0</td>\n",
              "      <td>0</td>\n",
              "      <td>0</td>\n",
              "      <td>0</td>\n",
              "      <td>0</td>\n",
              "      <td>0</td>\n",
              "      <td>0</td>\n",
              "      <td>0</td>\n",
              "      <td>0</td>\n",
              "      <td>0</td>\n",
              "      <td>0</td>\n",
              "      <td>0</td>\n",
              "      <td>0</td>\n",
              "      <td>0</td>\n",
              "      <td>0</td>\n",
              "      <td>0</td>\n",
              "    </tr>\n",
              "    <tr>\n",
              "      <th>14980</th>\n",
              "      <td>3</td>\n",
              "      <td>811000.0</td>\n",
              "      <td>1</td>\n",
              "      <td>0</td>\n",
              "      <td>0</td>\n",
              "      <td>0</td>\n",
              "      <td>0</td>\n",
              "      <td>0</td>\n",
              "      <td>3137</td>\n",
              "      <td>0</td>\n",
              "      <td>0</td>\n",
              "      <td>0</td>\n",
              "      <td>0</td>\n",
              "      <td>1</td>\n",
              "      <td>0</td>\n",
              "      <td>0</td>\n",
              "      <td>4654</td>\n",
              "      <td>26.0</td>\n",
              "      <td>0</td>\n",
              "      <td>0</td>\n",
              "      <td>0</td>\n",
              "      <td>0</td>\n",
              "      <td>0</td>\n",
              "      <td>0</td>\n",
              "      <td>0</td>\n",
              "      <td>0</td>\n",
              "      <td>0</td>\n",
              "      <td>0</td>\n",
              "      <td>1</td>\n",
              "      <td>0</td>\n",
              "      <td>0</td>\n",
              "      <td>0</td>\n",
              "      <td>0</td>\n",
              "      <td>0</td>\n",
              "      <td>0</td>\n",
              "      <td>0</td>\n",
              "      <td>0</td>\n",
              "      <td>0</td>\n",
              "      <td>0</td>\n",
              "      <td>0</td>\n",
              "      <td>0</td>\n",
              "      <td>0</td>\n",
              "      <td>0</td>\n",
              "      <td>0</td>\n",
              "      <td>0</td>\n",
              "      <td>0</td>\n",
              "      <td>0</td>\n",
              "      <td>0</td>\n",
              "      <td>0</td>\n",
              "      <td>0</td>\n",
              "      <td>0</td>\n",
              "    </tr>\n",
              "    <tr>\n",
              "      <th>32414</th>\n",
              "      <td>3</td>\n",
              "      <td>1721000.0</td>\n",
              "      <td>0</td>\n",
              "      <td>0</td>\n",
              "      <td>1</td>\n",
              "      <td>0</td>\n",
              "      <td>0</td>\n",
              "      <td>0</td>\n",
              "      <td>3141</td>\n",
              "      <td>0</td>\n",
              "      <td>0</td>\n",
              "      <td>1</td>\n",
              "      <td>0</td>\n",
              "      <td>0</td>\n",
              "      <td>0</td>\n",
              "      <td>0</td>\n",
              "      <td>14887</td>\n",
              "      <td>2.7</td>\n",
              "      <td>0</td>\n",
              "      <td>0</td>\n",
              "      <td>0</td>\n",
              "      <td>0</td>\n",
              "      <td>0</td>\n",
              "      <td>0</td>\n",
              "      <td>0</td>\n",
              "      <td>0</td>\n",
              "      <td>0</td>\n",
              "      <td>0</td>\n",
              "      <td>0</td>\n",
              "      <td>0</td>\n",
              "      <td>0</td>\n",
              "      <td>0</td>\n",
              "      <td>0</td>\n",
              "      <td>0</td>\n",
              "      <td>0</td>\n",
              "      <td>0</td>\n",
              "      <td>0</td>\n",
              "      <td>1</td>\n",
              "      <td>0</td>\n",
              "      <td>0</td>\n",
              "      <td>0</td>\n",
              "      <td>0</td>\n",
              "      <td>0</td>\n",
              "      <td>0</td>\n",
              "      <td>0</td>\n",
              "      <td>0</td>\n",
              "      <td>0</td>\n",
              "      <td>0</td>\n",
              "      <td>0</td>\n",
              "      <td>0</td>\n",
              "      <td>0</td>\n",
              "    </tr>\n",
              "    <tr>\n",
              "      <th>54957</th>\n",
              "      <td>4</td>\n",
              "      <td>820000.0</td>\n",
              "      <td>1</td>\n",
              "      <td>0</td>\n",
              "      <td>0</td>\n",
              "      <td>0</td>\n",
              "      <td>1</td>\n",
              "      <td>0</td>\n",
              "      <td>3056</td>\n",
              "      <td>1</td>\n",
              "      <td>0</td>\n",
              "      <td>0</td>\n",
              "      <td>0</td>\n",
              "      <td>0</td>\n",
              "      <td>0</td>\n",
              "      <td>0</td>\n",
              "      <td>11918</td>\n",
              "      <td>5.2</td>\n",
              "      <td>0</td>\n",
              "      <td>0</td>\n",
              "      <td>0</td>\n",
              "      <td>0</td>\n",
              "      <td>0</td>\n",
              "      <td>0</td>\n",
              "      <td>0</td>\n",
              "      <td>0</td>\n",
              "      <td>0</td>\n",
              "      <td>0</td>\n",
              "      <td>0</td>\n",
              "      <td>0</td>\n",
              "      <td>0</td>\n",
              "      <td>0</td>\n",
              "      <td>0</td>\n",
              "      <td>0</td>\n",
              "      <td>0</td>\n",
              "      <td>1</td>\n",
              "      <td>0</td>\n",
              "      <td>0</td>\n",
              "      <td>0</td>\n",
              "      <td>0</td>\n",
              "      <td>0</td>\n",
              "      <td>0</td>\n",
              "      <td>0</td>\n",
              "      <td>0</td>\n",
              "      <td>0</td>\n",
              "      <td>0</td>\n",
              "      <td>0</td>\n",
              "      <td>0</td>\n",
              "      <td>0</td>\n",
              "      <td>0</td>\n",
              "      <td>0</td>\n",
              "    </tr>\n",
              "  </tbody>\n",
              "</table>\n",
              "</div>"
            ],
            "text/plain": [
              "       Rooms  ...  CouncilArea_Moorabool Shire Council\n",
              "60324      4  ...                                    0\n",
              "20098      3  ...                                    0\n",
              "14980      3  ...                                    0\n",
              "32414      3  ...                                    0\n",
              "54957      4  ...                                    0\n",
              "\n",
              "[5 rows x 51 columns]"
            ]
          },
          "metadata": {
            "tags": []
          },
          "execution_count": 69
        }
      ]
    },
    {
      "cell_type": "markdown",
      "metadata": {
        "id": "bAUjVxpizcFm"
      },
      "source": [
        "### 3) SelectKBest를 사용해서 20개의 특성만 selection 하세요\n",
        "- score_func 에는 f_regression을 사용합니다 # api 확인후 하기\n",
        "- **가장 스코어(Attributes: scores_ 사용)가 높게 나온 특성의 이름을 과제 제출폼에 제출하세요.**"
      ]
    },
    {
      "cell_type": "code",
      "metadata": {
        "id": "ieMukt1jzcFm",
        "colab": {
          "base_uri": "https://localhost:8080/"
        },
        "outputId": "47ca4802-7442-4525-dbba-58ca0767e75a"
      },
      "source": [
        "# target(Price)와 가장 correlated 된 features 를 k개 고르는 것이 목표입니다.\n",
        "## f_regresison, SelectKBest\n",
        "from sklearn.feature_selection import f_regression, SelectKBest\n",
        "\n",
        "## selctor 정의합니다.\n",
        "selector = SelectKBest(score_func=f_regression, k=20)\n",
        "\n",
        "## 학습데이터에 fit_transform \n",
        "X_train_selected = selector.fit_transform(X_train, y_train)\n",
        "\n",
        "## 테스트 데이터는 transform\n",
        "X_test_selected = selector.transform(X_test)\n",
        "\n",
        "\n",
        "X_train_selected.shape, X_test_selected.shape"
      ],
      "execution_count": 70,
      "outputs": [
        {
          "output_type": "execute_result",
          "data": {
            "text/plain": [
              "((34012, 20), (8503, 20))"
            ]
          },
          "metadata": {
            "tags": []
          },
          "execution_count": 70
        }
      ]
    },
    {
      "cell_type": "code",
      "metadata": {
        "colab": {
          "base_uri": "https://localhost:8080/"
        },
        "id": "mqscN68tOg2b",
        "outputId": "0d850b19-5ddd-4d42-d5d3-a54fb1a66e8f"
      },
      "source": [
        "all_names = X_train.columns\n",
        "\n",
        "## selector.get_support()\n",
        "selected_mask = selector.get_support()\n",
        "\n",
        "## 선택된 특성들\n",
        "selected_names = all_names[selected_mask]\n",
        "print('Selected names: ', selected_names)\n"
      ],
      "execution_count": 71,
      "outputs": [
        {
          "output_type": "stream",
          "text": [
            "Selected names:  Index(['Rooms', 'Type_h', 'Type_u', 'Method_SP', 'Method_VB',\n",
            "       'Regionname_Northern Metropolitan', 'Regionname_Western Metropolitan',\n",
            "       'Regionname_Southern Metropolitan',\n",
            "       'Regionname_South-Eastern Metropolitan', 'Distance',\n",
            "       'CouncilArea_Brimbank City Council',\n",
            "       'CouncilArea_Stonnington City Council',\n",
            "       'CouncilArea_Boroondara City Council',\n",
            "       'CouncilArea_Bayside City Council', 'CouncilArea_Hume City Council',\n",
            "       'CouncilArea_Manningham City Council',\n",
            "       'CouncilArea_Melton City Council', 'CouncilArea_Frankston City Council',\n",
            "       'CouncilArea_Whittlesea City Council',\n",
            "       'CouncilArea_Wyndham City Council'],\n",
            "      dtype='object')\n"
          ],
          "name": "stdout"
        }
      ]
    },
    {
      "cell_type": "code",
      "metadata": {
        "id": "OeldGkt6cQkL"
      },
      "source": [
        "import numpy as np\n",
        "array = selector.scores_\n",
        "\n",
        "pd.DataFrame(dict(feature_names=X_train.columns,\n",
        "                  scores = selector.scores_))\\\n",
        "                  .sort_values('scores',ascending = False)\n",
        "# 스코어가 가장 높은 피쳐 = Rooms"
      ],
      "execution_count": null,
      "outputs": []
    },
    {
      "cell_type": "markdown",
      "metadata": {
        "id": "EFZ6RKiAzcFm"
      },
      "source": [
        "### 4) RidgeCV를 사용해서 회귀모델을 만들어 보세요\n",
        "- attribute는 normalize=True, cv=5를 사용하세요. 나머지는 default\n",
        "- **alphas = [0, 0.001, 0.01, 0.1, 1] 을 시도해보고 가장 좋은 점수가 나온 alpha 값을 과제 제출폼에 제출하세요.**"
      ]
    },
    {
      "cell_type": "code",
      "metadata": {
        "id": "4elSvT6WzcFn",
        "colab": {
          "base_uri": "https://localhost:8080/"
        },
        "outputId": "9cf621e0-c135-458a-cfb7-9623762ee055"
      },
      "source": [
        "from sklearn.linear_model import RidgeCV\n",
        "\n",
        "alphas = [0, 0.001, 0.01, 0.1, 1]\n",
        "\n",
        "ridge = RidgeCV(alphas=alphas, normalize=True, cv=5)\n",
        "ridge.fit(X_train_selected, y_train)\n",
        "print(\"alpha: \", ridge.alpha_)\n",
        "print(\"best score: \", ridge.best_score_)\n",
        "# 가장좋은 점수의 alpha = 0.001"
      ],
      "execution_count": 77,
      "outputs": [
        {
          "output_type": "stream",
          "text": [
            "alpha:  0.001\n",
            "best score:  0.5510507608242426\n"
          ],
          "name": "stdout"
        }
      ]
    },
    {
      "cell_type": "markdown",
      "metadata": {
        "id": "R-Yp9qpmzcFn"
      },
      "source": [
        "### 5) 테스트셋에 대한 MAE 값을 계산하고 모델이 잘 만들어졌는지 확인해 보세요.\n",
        "- **테스트셋에 대한 MAE 값을 과제 제출폼에 제출하세요.**"
      ]
    },
    {
      "cell_type": "code",
      "metadata": {
        "id": "mPf2De_SzcFn",
        "colab": {
          "base_uri": "https://localhost:8080/"
        },
        "outputId": "c56ad60a-ab64-43fe-e417-62b4006e388f"
      },
      "source": [
        "from sklearn.metrics import r2_score, mean_absolute_error\n",
        "from sklearn.linear_model import Ridge\n",
        "\n",
        "for alpha in [0, 0.001, 0.01, 0.1, 1]:\n",
        "    print('\\n')\n",
        "    print(f'Ridge Regression, alpha={alpha}')\n",
        "\n",
        "    # Ridge 모델 학습\n",
        "    model = Ridge(alpha=alpha, normalize=True)  \n",
        "    model.fit(X_train_selected, y_train)\n",
        "    y_pred = model.predict(X_test_selected)\n",
        "\n",
        "    # MAE for test\n",
        "    mae = mean_absolute_error(y_test, y_pred)\n",
        "    r2 = r2_score(y_test, y_pred)\n",
        "    \n",
        "    print(f'Test MAE: ${mae:,.0f}')\n",
        "    print(f'Test R2: {r2:,.5f}')\n",
        "# alpha 0.001의 MAE = $262,857"
      ],
      "execution_count": 81,
      "outputs": [
        {
          "output_type": "stream",
          "text": [
            "\n",
            "\n",
            "Ridge Regression, alpha=0\n",
            "Test MAE: $262,917\n",
            "Test R2: 0.56916\n",
            "\n",
            "\n",
            "Ridge Regression, alpha=0.001\n",
            "Test MAE: $262,857\n",
            "Test R2: 0.56914\n",
            "\n",
            "\n",
            "Ridge Regression, alpha=0.01\n",
            "Test MAE: $262,375\n",
            "Test R2: 0.56884\n",
            "\n",
            "\n",
            "Ridge Regression, alpha=0.1\n",
            "Test MAE: $260,253\n",
            "Test R2: 0.56217\n",
            "\n",
            "\n",
            "Ridge Regression, alpha=1\n",
            "Test MAE: $286,398\n",
            "Test R2: 0.45906\n"
          ],
          "name": "stdout"
        }
      ]
    },
    {
      "cell_type": "markdown",
      "metadata": {
        "id": "4r1OfdSYzcFp"
      },
      "source": [
        "## 🔥 도전과제"
      ]
    },
    {
      "cell_type": "markdown",
      "metadata": {
        "id": "4sLnVXsvzcFp"
      },
      "source": [
        "### 6) best ridge regression model을 만드세요.\n",
        "    - 특성의 갯수에 제한이 없습니다.\n",
        "    - 다항회귀를 사용하세요\n",
        "    - 여러 람다값을 시도하세요\n",
        "    - 람다 0인 경우를 비교하세요\n",
        "    - RidgeCV를 사용하세요\n",
        "    - 만든 모델의 특징을 간략히 설명하고 테스트세트 성능 결과를 메신저에서 공유하세요"
      ]
    },
    {
      "cell_type": "code",
      "metadata": {
        "id": "iGcAzNxBzcFq"
      },
      "source": [
        "### 이곳에서 과제를 진행해 주세요 ###"
      ],
      "execution_count": null,
      "outputs": []
    }
  ]
}